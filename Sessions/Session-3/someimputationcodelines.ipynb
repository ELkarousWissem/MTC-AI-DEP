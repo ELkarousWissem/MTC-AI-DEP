{
 "cells": [
  {
   "cell_type": "markdown",
   "id": "d40d6081",
   "metadata": {
    "papermill": {
     "duration": 0.010553,
     "end_time": "2022-11-25T16:37:35.985005",
     "exception": false,
     "start_time": "2022-11-25T16:37:35.974452",
     "status": "completed"
    },
    "tags": []
   },
   "source": [
    "# Importing libraries"
   ]
  },
  {
   "cell_type": "code",
   "execution_count": 1,
   "id": "bf9c778b",
   "metadata": {
    "execution": {
     "iopub.execute_input": "2022-11-25T16:37:36.006104Z",
     "iopub.status.busy": "2022-11-25T16:37:36.005446Z",
     "iopub.status.idle": "2022-11-25T16:37:36.013896Z",
     "shell.execute_reply": "2022-11-25T16:37:36.012963Z"
    },
    "papermill": {
     "duration": 0.021488,
     "end_time": "2022-11-25T16:37:36.016138",
     "exception": false,
     "start_time": "2022-11-25T16:37:35.994650",
     "status": "completed"
    },
    "tags": []
   },
   "outputs": [],
   "source": [
    "import pandas as pd \n",
    "import numpy as np \n",
    "import matplotlib.pyplot as plt "
   ]
  },
  {
   "cell_type": "markdown",
   "id": "853a717f",
   "metadata": {
    "papermill": {
     "duration": 0.008782,
     "end_time": "2022-11-25T16:37:36.035729",
     "exception": false,
     "start_time": "2022-11-25T16:37:36.026947",
     "status": "completed"
    },
    "tags": []
   },
   "source": [
    "# Loading Data "
   ]
  },
  {
   "cell_type": "code",
   "execution_count": 2,
   "id": "1fc7c033",
   "metadata": {
    "execution": {
     "iopub.execute_input": "2022-11-25T16:37:36.056049Z",
     "iopub.status.busy": "2022-11-25T16:37:36.055415Z",
     "iopub.status.idle": "2022-11-25T16:37:36.076080Z",
     "shell.execute_reply": "2022-11-25T16:37:36.075211Z"
    },
    "papermill": {
     "duration": 0.033372,
     "end_time": "2022-11-25T16:37:36.078335",
     "exception": false,
     "start_time": "2022-11-25T16:37:36.044963",
     "status": "completed"
    },
    "tags": []
   },
   "outputs": [],
   "source": [
    "data=pd.read_csv(\"tested .csv\")\n"
   ]
  },
  {
   "cell_type": "code",
   "execution_count": 3,
   "id": "0f3dbe80",
   "metadata": {
    "execution": {
     "iopub.execute_input": "2022-11-25T16:37:36.097964Z",
     "iopub.status.busy": "2022-11-25T16:37:36.097610Z",
     "iopub.status.idle": "2022-11-25T16:37:36.105938Z",
     "shell.execute_reply": "2022-11-25T16:37:36.104774Z"
    },
    "papermill": {
     "duration": 0.020232,
     "end_time": "2022-11-25T16:37:36.107806",
     "exception": false,
     "start_time": "2022-11-25T16:37:36.087574",
     "status": "completed"
    },
    "tags": []
   },
   "outputs": [
    {
     "data": {
      "text/plain": [
       "(418, 12)"
      ]
     },
     "execution_count": 3,
     "metadata": {},
     "output_type": "execute_result"
    }
   ],
   "source": [
    "data.shape"
   ]
  },
  {
   "cell_type": "code",
   "execution_count": 63,
   "id": "81b05348",
   "metadata": {},
   "outputs": [],
   "source": [
    "# Exemple How create dataframe :\n",
    "data = {\n",
    "    'Name': ['Alice', 'Bob', 'Charlie'],\n",
    "    'Age': [25, 30, 22],\n",
    "    'City': ['New York', 'Los Angeles', 'Chicago'],\n",
    "    'Income': [45000, 60000, 35000]\n",
    "}\n",
    "\n",
    "dff = pd.DataFrame(data)\n",
    "# Exemple How create dataframe :\n",
    "rows=index=('falcon', 'horse', 'spider', 'ostrich')\n",
    "df = pd.DataFrame([('bird', 2, 2),\n",
    "                   ('mammal', 4, np.nan),\n",
    "                   ('arthropod', 8, 0),\n",
    "                   ('bird', 2, np.nan)],\n",
    "                  rows,\n",
    "                  columns=('species', 'legs', 'wings'))\n"
   ]
  },
  {
   "cell_type": "code",
   "execution_count": 62,
   "id": "72178455",
   "metadata": {},
   "outputs": [
    {
     "data": {
      "text/html": [
       "<div>\n",
       "<style scoped>\n",
       "    .dataframe tbody tr th:only-of-type {\n",
       "        vertical-align: middle;\n",
       "    }\n",
       "\n",
       "    .dataframe tbody tr th {\n",
       "        vertical-align: top;\n",
       "    }\n",
       "\n",
       "    .dataframe thead th {\n",
       "        text-align: right;\n",
       "    }\n",
       "</style>\n",
       "<table border=\"1\" class=\"dataframe\">\n",
       "  <thead>\n",
       "    <tr style=\"text-align: right;\">\n",
       "      <th></th>\n",
       "      <th>species</th>\n",
       "      <th>legs</th>\n",
       "    </tr>\n",
       "  </thead>\n",
       "  <tbody>\n",
       "    <tr>\n",
       "      <th>falcon</th>\n",
       "      <td>bird</td>\n",
       "      <td>2</td>\n",
       "    </tr>\n",
       "    <tr>\n",
       "      <th>horse</th>\n",
       "      <td>mammal</td>\n",
       "      <td>4</td>\n",
       "    </tr>\n",
       "    <tr>\n",
       "      <th>spider</th>\n",
       "      <td>arthropod</td>\n",
       "      <td>8</td>\n",
       "    </tr>\n",
       "    <tr>\n",
       "      <th>ostrich</th>\n",
       "      <td>bird</td>\n",
       "      <td>2</td>\n",
       "    </tr>\n",
       "  </tbody>\n",
       "</table>\n",
       "</div>"
      ],
      "text/plain": [
       "           species  legs\n",
       "falcon        bird     2\n",
       "horse       mammal     4\n",
       "spider   arthropod     8\n",
       "ostrich       bird     2"
      ]
     },
     "execution_count": 62,
     "metadata": {},
     "output_type": "execute_result"
    }
   ],
   "source": [
    "#drop columns:\n",
    "df.drop('wings', axis=1, inplace=True)\n",
    "df"
   ]
  },
  {
   "cell_type": "code",
   "execution_count": 58,
   "id": "0e1c4c75",
   "metadata": {},
   "outputs": [
    {
     "data": {
      "text/html": [
       "<div>\n",
       "<style scoped>\n",
       "    .dataframe tbody tr th:only-of-type {\n",
       "        vertical-align: middle;\n",
       "    }\n",
       "\n",
       "    .dataframe tbody tr th {\n",
       "        vertical-align: top;\n",
       "    }\n",
       "\n",
       "    .dataframe thead th {\n",
       "        text-align: right;\n",
       "    }\n",
       "</style>\n",
       "<table border=\"1\" class=\"dataframe\">\n",
       "  <thead>\n",
       "    <tr style=\"text-align: right;\">\n",
       "      <th></th>\n",
       "      <th>species</th>\n",
       "      <th>legs</th>\n",
       "      <th>wings</th>\n",
       "    </tr>\n",
       "  </thead>\n",
       "  <tbody>\n",
       "    <tr>\n",
       "      <th>0</th>\n",
       "      <td>bird</td>\n",
       "      <td>2.0</td>\n",
       "      <td>0.0</td>\n",
       "    </tr>\n",
       "    <tr>\n",
       "      <th>1</th>\n",
       "      <td>NaN</td>\n",
       "      <td>NaN</td>\n",
       "      <td>2.0</td>\n",
       "    </tr>\n",
       "  </tbody>\n",
       "</table>\n",
       "</div>"
      ],
      "text/plain": [
       "  species  legs  wings\n",
       "0    bird   2.0    0.0\n",
       "1     NaN   NaN    2.0"
      ]
     },
     "execution_count": 58,
     "metadata": {},
     "output_type": "execute_result"
    }
   ],
   "source": [
    "df.mode(axis=0,numeric_only=False,dropna=True)\n"
   ]
  },
  {
   "cell_type": "code",
   "execution_count": 7,
   "id": "d0fa4520",
   "metadata": {
    "execution": {
     "iopub.execute_input": "2022-11-25T16:37:36.128288Z",
     "iopub.status.busy": "2022-11-25T16:37:36.127906Z",
     "iopub.status.idle": "2022-11-25T16:37:36.150873Z",
     "shell.execute_reply": "2022-11-25T16:37:36.150009Z"
    },
    "papermill": {
     "duration": 0.035489,
     "end_time": "2022-11-25T16:37:36.152772",
     "exception": false,
     "start_time": "2022-11-25T16:37:36.117283",
     "status": "completed"
    },
    "tags": []
   },
   "outputs": [
    {
     "data": {
      "text/html": [
       "<div>\n",
       "<style scoped>\n",
       "    .dataframe tbody tr th:only-of-type {\n",
       "        vertical-align: middle;\n",
       "    }\n",
       "\n",
       "    .dataframe tbody tr th {\n",
       "        vertical-align: top;\n",
       "    }\n",
       "\n",
       "    .dataframe thead th {\n",
       "        text-align: right;\n",
       "    }\n",
       "</style>\n",
       "<table border=\"1\" class=\"dataframe\">\n",
       "  <thead>\n",
       "    <tr style=\"text-align: right;\">\n",
       "      <th></th>\n",
       "      <th>PassengerId</th>\n",
       "      <th>Survived</th>\n",
       "      <th>Pclass</th>\n",
       "      <th>Name</th>\n",
       "      <th>Sex</th>\n",
       "      <th>Age</th>\n",
       "      <th>SibSp</th>\n",
       "      <th>Parch</th>\n",
       "      <th>Ticket</th>\n",
       "      <th>Fare</th>\n",
       "      <th>Cabin</th>\n",
       "      <th>Embarked</th>\n",
       "    </tr>\n",
       "  </thead>\n",
       "  <tbody>\n",
       "    <tr>\n",
       "      <th>0</th>\n",
       "      <td>892</td>\n",
       "      <td>0</td>\n",
       "      <td>3</td>\n",
       "      <td>Kelly, Mr. James</td>\n",
       "      <td>male</td>\n",
       "      <td>34.5</td>\n",
       "      <td>0</td>\n",
       "      <td>0</td>\n",
       "      <td>330911</td>\n",
       "      <td>7.8292</td>\n",
       "      <td>NaN</td>\n",
       "      <td>Q</td>\n",
       "    </tr>\n",
       "    <tr>\n",
       "      <th>1</th>\n",
       "      <td>893</td>\n",
       "      <td>1</td>\n",
       "      <td>3</td>\n",
       "      <td>Wilkes, Mrs. James (Ellen Needs)</td>\n",
       "      <td>female</td>\n",
       "      <td>47.0</td>\n",
       "      <td>1</td>\n",
       "      <td>0</td>\n",
       "      <td>363272</td>\n",
       "      <td>7.0000</td>\n",
       "      <td>NaN</td>\n",
       "      <td>S</td>\n",
       "    </tr>\n",
       "    <tr>\n",
       "      <th>2</th>\n",
       "      <td>894</td>\n",
       "      <td>0</td>\n",
       "      <td>2</td>\n",
       "      <td>Myles, Mr. Thomas Francis</td>\n",
       "      <td>male</td>\n",
       "      <td>62.0</td>\n",
       "      <td>0</td>\n",
       "      <td>0</td>\n",
       "      <td>240276</td>\n",
       "      <td>9.6875</td>\n",
       "      <td>NaN</td>\n",
       "      <td>Q</td>\n",
       "    </tr>\n",
       "    <tr>\n",
       "      <th>3</th>\n",
       "      <td>895</td>\n",
       "      <td>0</td>\n",
       "      <td>3</td>\n",
       "      <td>Wirz, Mr. Albert</td>\n",
       "      <td>male</td>\n",
       "      <td>27.0</td>\n",
       "      <td>0</td>\n",
       "      <td>0</td>\n",
       "      <td>315154</td>\n",
       "      <td>8.6625</td>\n",
       "      <td>NaN</td>\n",
       "      <td>S</td>\n",
       "    </tr>\n",
       "    <tr>\n",
       "      <th>4</th>\n",
       "      <td>896</td>\n",
       "      <td>1</td>\n",
       "      <td>3</td>\n",
       "      <td>Hirvonen, Mrs. Alexander (Helga E Lindqvist)</td>\n",
       "      <td>female</td>\n",
       "      <td>22.0</td>\n",
       "      <td>1</td>\n",
       "      <td>1</td>\n",
       "      <td>3101298</td>\n",
       "      <td>12.2875</td>\n",
       "      <td>NaN</td>\n",
       "      <td>S</td>\n",
       "    </tr>\n",
       "  </tbody>\n",
       "</table>\n",
       "</div>"
      ],
      "text/plain": [
       "   PassengerId  Survived  Pclass  \\\n",
       "0          892         0       3   \n",
       "1          893         1       3   \n",
       "2          894         0       2   \n",
       "3          895         0       3   \n",
       "4          896         1       3   \n",
       "\n",
       "                                           Name     Sex   Age  SibSp  Parch  \\\n",
       "0                              Kelly, Mr. James    male  34.5      0      0   \n",
       "1              Wilkes, Mrs. James (Ellen Needs)  female  47.0      1      0   \n",
       "2                     Myles, Mr. Thomas Francis    male  62.0      0      0   \n",
       "3                              Wirz, Mr. Albert    male  27.0      0      0   \n",
       "4  Hirvonen, Mrs. Alexander (Helga E Lindqvist)  female  22.0      1      1   \n",
       "\n",
       "    Ticket     Fare Cabin Embarked  \n",
       "0   330911   7.8292   NaN        Q  \n",
       "1   363272   7.0000   NaN        S  \n",
       "2   240276   9.6875   NaN        Q  \n",
       "3   315154   8.6625   NaN        S  \n",
       "4  3101298  12.2875   NaN        S  "
      ]
     },
     "execution_count": 7,
     "metadata": {},
     "output_type": "execute_result"
    }
   ],
   "source": [
    "data.head()"
   ]
  },
  {
   "cell_type": "code",
   "execution_count": 8,
   "id": "44f3b0d1",
   "metadata": {
    "execution": {
     "iopub.execute_input": "2022-11-25T16:37:36.174504Z",
     "iopub.status.busy": "2022-11-25T16:37:36.174101Z",
     "iopub.status.idle": "2022-11-25T16:37:36.189283Z",
     "shell.execute_reply": "2022-11-25T16:37:36.187901Z"
    },
    "papermill": {
     "duration": 0.028256,
     "end_time": "2022-11-25T16:37:36.191285",
     "exception": false,
     "start_time": "2022-11-25T16:37:36.163029",
     "status": "completed"
    },
    "tags": []
   },
   "outputs": [
    {
     "data": {
      "text/html": [
       "<div>\n",
       "<style scoped>\n",
       "    .dataframe tbody tr th:only-of-type {\n",
       "        vertical-align: middle;\n",
       "    }\n",
       "\n",
       "    .dataframe tbody tr th {\n",
       "        vertical-align: top;\n",
       "    }\n",
       "\n",
       "    .dataframe thead th {\n",
       "        text-align: right;\n",
       "    }\n",
       "</style>\n",
       "<table border=\"1\" class=\"dataframe\">\n",
       "  <thead>\n",
       "    <tr style=\"text-align: right;\">\n",
       "      <th></th>\n",
       "      <th>PassengerId</th>\n",
       "      <th>Survived</th>\n",
       "      <th>Pclass</th>\n",
       "      <th>Name</th>\n",
       "      <th>Sex</th>\n",
       "      <th>Age</th>\n",
       "      <th>SibSp</th>\n",
       "      <th>Parch</th>\n",
       "      <th>Ticket</th>\n",
       "      <th>Fare</th>\n",
       "      <th>Cabin</th>\n",
       "      <th>Embarked</th>\n",
       "    </tr>\n",
       "  </thead>\n",
       "  <tbody>\n",
       "    <tr>\n",
       "      <th>413</th>\n",
       "      <td>1305</td>\n",
       "      <td>0</td>\n",
       "      <td>3</td>\n",
       "      <td>Spector, Mr. Woolf</td>\n",
       "      <td>male</td>\n",
       "      <td>NaN</td>\n",
       "      <td>0</td>\n",
       "      <td>0</td>\n",
       "      <td>A.5. 3236</td>\n",
       "      <td>8.0500</td>\n",
       "      <td>NaN</td>\n",
       "      <td>S</td>\n",
       "    </tr>\n",
       "    <tr>\n",
       "      <th>414</th>\n",
       "      <td>1306</td>\n",
       "      <td>1</td>\n",
       "      <td>1</td>\n",
       "      <td>Oliva y Ocana, Dona. Fermina</td>\n",
       "      <td>female</td>\n",
       "      <td>39.0</td>\n",
       "      <td>0</td>\n",
       "      <td>0</td>\n",
       "      <td>PC 17758</td>\n",
       "      <td>108.9000</td>\n",
       "      <td>C105</td>\n",
       "      <td>C</td>\n",
       "    </tr>\n",
       "    <tr>\n",
       "      <th>415</th>\n",
       "      <td>1307</td>\n",
       "      <td>0</td>\n",
       "      <td>3</td>\n",
       "      <td>Saether, Mr. Simon Sivertsen</td>\n",
       "      <td>male</td>\n",
       "      <td>38.5</td>\n",
       "      <td>0</td>\n",
       "      <td>0</td>\n",
       "      <td>SOTON/O.Q. 3101262</td>\n",
       "      <td>7.2500</td>\n",
       "      <td>NaN</td>\n",
       "      <td>S</td>\n",
       "    </tr>\n",
       "    <tr>\n",
       "      <th>416</th>\n",
       "      <td>1308</td>\n",
       "      <td>0</td>\n",
       "      <td>3</td>\n",
       "      <td>Ware, Mr. Frederick</td>\n",
       "      <td>male</td>\n",
       "      <td>NaN</td>\n",
       "      <td>0</td>\n",
       "      <td>0</td>\n",
       "      <td>359309</td>\n",
       "      <td>8.0500</td>\n",
       "      <td>NaN</td>\n",
       "      <td>S</td>\n",
       "    </tr>\n",
       "    <tr>\n",
       "      <th>417</th>\n",
       "      <td>1309</td>\n",
       "      <td>0</td>\n",
       "      <td>3</td>\n",
       "      <td>Peter, Master. Michael J</td>\n",
       "      <td>male</td>\n",
       "      <td>NaN</td>\n",
       "      <td>1</td>\n",
       "      <td>1</td>\n",
       "      <td>2668</td>\n",
       "      <td>22.3583</td>\n",
       "      <td>NaN</td>\n",
       "      <td>C</td>\n",
       "    </tr>\n",
       "  </tbody>\n",
       "</table>\n",
       "</div>"
      ],
      "text/plain": [
       "     PassengerId  Survived  Pclass                          Name     Sex  \\\n",
       "413         1305         0       3            Spector, Mr. Woolf    male   \n",
       "414         1306         1       1  Oliva y Ocana, Dona. Fermina  female   \n",
       "415         1307         0       3  Saether, Mr. Simon Sivertsen    male   \n",
       "416         1308         0       3           Ware, Mr. Frederick    male   \n",
       "417         1309         0       3      Peter, Master. Michael J    male   \n",
       "\n",
       "      Age  SibSp  Parch              Ticket      Fare Cabin Embarked  \n",
       "413   NaN      0      0           A.5. 3236    8.0500   NaN        S  \n",
       "414  39.0      0      0            PC 17758  108.9000  C105        C  \n",
       "415  38.5      0      0  SOTON/O.Q. 3101262    7.2500   NaN        S  \n",
       "416   NaN      0      0              359309    8.0500   NaN        S  \n",
       "417   NaN      1      1                2668   22.3583   NaN        C  "
      ]
     },
     "execution_count": 8,
     "metadata": {},
     "output_type": "execute_result"
    }
   ],
   "source": [
    "data.tail()"
   ]
  },
  {
   "cell_type": "markdown",
   "id": "26295508",
   "metadata": {
    "papermill": {
     "duration": 0.009258,
     "end_time": "2022-11-25T16:37:36.210377",
     "exception": false,
     "start_time": "2022-11-25T16:37:36.201119",
     "status": "completed"
    },
    "tags": []
   },
   "source": [
    "# Data ANAlYSIS"
   ]
  },
  {
   "cell_type": "code",
   "execution_count": 9,
   "id": "41fae612",
   "metadata": {
    "execution": {
     "iopub.execute_input": "2022-11-25T16:37:36.231163Z",
     "iopub.status.busy": "2022-11-25T16:37:36.230813Z",
     "iopub.status.idle": "2022-11-25T16:37:36.236322Z",
     "shell.execute_reply": "2022-11-25T16:37:36.235418Z"
    },
    "papermill": {
     "duration": 0.018187,
     "end_time": "2022-11-25T16:37:36.238069",
     "exception": false,
     "start_time": "2022-11-25T16:37:36.219882",
     "status": "completed"
    },
    "tags": []
   },
   "outputs": [
    {
     "data": {
      "text/plain": [
       "['PassengerId',\n",
       " 'Survived',\n",
       " 'Pclass',\n",
       " 'Name',\n",
       " 'Sex',\n",
       " 'Age',\n",
       " 'SibSp',\n",
       " 'Parch',\n",
       " 'Ticket',\n",
       " 'Fare',\n",
       " 'Cabin',\n",
       " 'Embarked']"
      ]
     },
     "execution_count": 9,
     "metadata": {},
     "output_type": "execute_result"
    }
   ],
   "source": [
    "data.columns.to_list()"
   ]
  },
  {
   "cell_type": "code",
   "execution_count": 10,
   "id": "df41b92c",
   "metadata": {
    "execution": {
     "iopub.execute_input": "2022-11-25T16:37:36.259903Z",
     "iopub.status.busy": "2022-11-25T16:37:36.259544Z",
     "iopub.status.idle": "2022-11-25T16:37:36.284440Z",
     "shell.execute_reply": "2022-11-25T16:37:36.283516Z"
    },
    "papermill": {
     "duration": 0.03877,
     "end_time": "2022-11-25T16:37:36.286963",
     "exception": false,
     "start_time": "2022-11-25T16:37:36.248193",
     "status": "completed"
    },
    "tags": []
   },
   "outputs": [
    {
     "name": "stdout",
     "output_type": "stream",
     "text": [
      "<class 'pandas.core.frame.DataFrame'>\n",
      "RangeIndex: 418 entries, 0 to 417\n",
      "Data columns (total 12 columns):\n",
      " #   Column       Non-Null Count  Dtype  \n",
      "---  ------       --------------  -----  \n",
      " 0   PassengerId  418 non-null    int64  \n",
      " 1   Survived     418 non-null    int64  \n",
      " 2   Pclass       418 non-null    int64  \n",
      " 3   Name         418 non-null    object \n",
      " 4   Sex          418 non-null    object \n",
      " 5   Age          332 non-null    float64\n",
      " 6   SibSp        418 non-null    int64  \n",
      " 7   Parch        418 non-null    int64  \n",
      " 8   Ticket       418 non-null    object \n",
      " 9   Fare         417 non-null    float64\n",
      " 10  Cabin        91 non-null     object \n",
      " 11  Embarked     418 non-null    object \n",
      "dtypes: float64(2), int64(5), object(5)\n",
      "memory usage: 39.3+ KB\n"
     ]
    }
   ],
   "source": [
    "data.info()"
   ]
  },
  {
   "cell_type": "code",
   "execution_count": 11,
   "id": "70f1fd95",
   "metadata": {
    "execution": {
     "iopub.execute_input": "2022-11-25T16:37:36.309321Z",
     "iopub.status.busy": "2022-11-25T16:37:36.308985Z",
     "iopub.status.idle": "2022-11-25T16:37:36.316833Z",
     "shell.execute_reply": "2022-11-25T16:37:36.315679Z"
    },
    "papermill": {
     "duration": 0.022215,
     "end_time": "2022-11-25T16:37:36.319305",
     "exception": false,
     "start_time": "2022-11-25T16:37:36.297090",
     "status": "completed"
    },
    "tags": []
   },
   "outputs": [
    {
     "data": {
      "text/plain": [
       "PassengerId      int64\n",
       "Survived         int64\n",
       "Pclass           int64\n",
       "Name            object\n",
       "Sex             object\n",
       "Age            float64\n",
       "SibSp            int64\n",
       "Parch            int64\n",
       "Ticket          object\n",
       "Fare           float64\n",
       "Cabin           object\n",
       "Embarked        object\n",
       "dtype: object"
      ]
     },
     "execution_count": 11,
     "metadata": {},
     "output_type": "execute_result"
    }
   ],
   "source": [
    "data.dtypes"
   ]
  },
  {
   "cell_type": "code",
   "execution_count": 12,
   "id": "e7f90c53",
   "metadata": {
    "execution": {
     "iopub.execute_input": "2022-11-25T16:37:36.341454Z",
     "iopub.status.busy": "2022-11-25T16:37:36.341088Z",
     "iopub.status.idle": "2022-11-25T16:37:36.478740Z",
     "shell.execute_reply": "2022-11-25T16:37:36.477766Z"
    },
    "papermill": {
     "duration": 0.150907,
     "end_time": "2022-11-25T16:37:36.480664",
     "exception": false,
     "start_time": "2022-11-25T16:37:36.329757",
     "status": "completed"
    },
    "tags": []
   },
   "outputs": [
    {
     "data": {
      "image/png": "[encoded data removed]",
      "text/plain": [
       "<Figure size 640x480 with 1 Axes>"
      ]
     },
     "metadata": {},
     "output_type": "display_data"
    }
   ],
   "source": [
    "data.dtypes.value_counts().plot.pie()\n",
    "plt.show()"
   ]
  },
  {
   "cell_type": "markdown",
   "id": "f3c97c1c",
   "metadata": {
    "papermill": {
     "duration": 0.009668,
     "end_time": "2022-11-25T16:37:36.500552",
     "exception": false,
     "start_time": "2022-11-25T16:37:36.490884",
     "status": "completed"
    },
    "tags": []
   },
   "source": [
    "# Missing values "
   ]
  },
  {
   "cell_type": "code",
   "execution_count": 13,
   "id": "66e9bc2c",
   "metadata": {
    "execution": {
     "iopub.execute_input": "2022-11-25T16:37:36.522134Z",
     "iopub.status.busy": "2022-11-25T16:37:36.521601Z",
     "iopub.status.idle": "2022-11-25T16:37:36.542367Z",
     "shell.execute_reply": "2022-11-25T16:37:36.541507Z"
    },
    "papermill": {
     "duration": 0.033799,
     "end_time": "2022-11-25T16:37:36.544194",
     "exception": false,
     "start_time": "2022-11-25T16:37:36.510395",
     "status": "completed"
    },
    "tags": []
   },
   "outputs": [
    {
     "data": {
      "text/plain": [
       "PassengerId      0\n",
       "Survived         0\n",
       "Pclass           0\n",
       "Name             0\n",
       "Sex              0\n",
       "Age             86\n",
       "SibSp            0\n",
       "Parch            0\n",
       "Ticket           0\n",
       "Fare             1\n",
       "Cabin          327\n",
       "Embarked         0\n",
       "dtype: int64"
      ]
     },
     "execution_count": 13,
     "metadata": {},
     "output_type": "execute_result"
    }
   ],
   "source": [
    "data.isna().sum()"
   ]
  },
  {
   "cell_type": "markdown",
   "id": "5cf31a4a",
   "metadata": {},
   "source": [
    "### imputation "
   ]
  },
  {
   "cell_type": "code",
   "execution_count": 14,
   "id": "78b3b405",
   "metadata": {},
   "outputs": [],
   "source": [
    "mode_cabin = data['Cabin'].mode()[0]\n",
    "mode_cabin\n",
    "mode_cabinn=mode_cabin='B57'\n"
   ]
  },
  {
   "cell_type": "code",
   "execution_count": 15,
   "id": "88ca2eba",
   "metadata": {},
   "outputs": [
    {
     "data": {
      "text/html": [
       "<div>\n",
       "<style scoped>\n",
       "    .dataframe tbody tr th:only-of-type {\n",
       "        vertical-align: middle;\n",
       "    }\n",
       "\n",
       "    .dataframe tbody tr th {\n",
       "        vertical-align: top;\n",
       "    }\n",
       "\n",
       "    .dataframe thead th {\n",
       "        text-align: right;\n",
       "    }\n",
       "</style>\n",
       "<table border=\"1\" class=\"dataframe\">\n",
       "  <thead>\n",
       "    <tr style=\"text-align: right;\">\n",
       "      <th></th>\n",
       "      <th>PassengerId</th>\n",
       "      <th>Survived</th>\n",
       "      <th>Pclass</th>\n",
       "      <th>Name</th>\n",
       "      <th>Sex</th>\n",
       "      <th>Age</th>\n",
       "      <th>SibSp</th>\n",
       "      <th>Parch</th>\n",
       "      <th>Ticket</th>\n",
       "      <th>Fare</th>\n",
       "      <th>Cabin</th>\n",
       "      <th>Embarked</th>\n",
       "    </tr>\n",
       "  </thead>\n",
       "  <tbody>\n",
       "    <tr>\n",
       "      <th>0</th>\n",
       "      <td>892</td>\n",
       "      <td>0</td>\n",
       "      <td>3</td>\n",
       "      <td>Kelly, Mr. James</td>\n",
       "      <td>male</td>\n",
       "      <td>34.5</td>\n",
       "      <td>0</td>\n",
       "      <td>0</td>\n",
       "      <td>330911</td>\n",
       "      <td>7.8292</td>\n",
       "      <td>B57</td>\n",
       "      <td>Q</td>\n",
       "    </tr>\n",
       "    <tr>\n",
       "      <th>1</th>\n",
       "      <td>893</td>\n",
       "      <td>1</td>\n",
       "      <td>3</td>\n",
       "      <td>Wilkes, Mrs. James (Ellen Needs)</td>\n",
       "      <td>female</td>\n",
       "      <td>47.0</td>\n",
       "      <td>1</td>\n",
       "      <td>0</td>\n",
       "      <td>363272</td>\n",
       "      <td>7.0000</td>\n",
       "      <td>B57</td>\n",
       "      <td>S</td>\n",
       "    </tr>\n",
       "    <tr>\n",
       "      <th>2</th>\n",
       "      <td>894</td>\n",
       "      <td>0</td>\n",
       "      <td>2</td>\n",
       "      <td>Myles, Mr. Thomas Francis</td>\n",
       "      <td>male</td>\n",
       "      <td>62.0</td>\n",
       "      <td>0</td>\n",
       "      <td>0</td>\n",
       "      <td>240276</td>\n",
       "      <td>9.6875</td>\n",
       "      <td>B57</td>\n",
       "      <td>Q</td>\n",
       "    </tr>\n",
       "    <tr>\n",
       "      <th>3</th>\n",
       "      <td>895</td>\n",
       "      <td>0</td>\n",
       "      <td>3</td>\n",
       "      <td>Wirz, Mr. Albert</td>\n",
       "      <td>male</td>\n",
       "      <td>27.0</td>\n",
       "      <td>0</td>\n",
       "      <td>0</td>\n",
       "      <td>315154</td>\n",
       "      <td>8.6625</td>\n",
       "      <td>B57</td>\n",
       "      <td>S</td>\n",
       "    </tr>\n",
       "    <tr>\n",
       "      <th>4</th>\n",
       "      <td>896</td>\n",
       "      <td>1</td>\n",
       "      <td>3</td>\n",
       "      <td>Hirvonen, Mrs. Alexander (Helga E Lindqvist)</td>\n",
       "      <td>female</td>\n",
       "      <td>22.0</td>\n",
       "      <td>1</td>\n",
       "      <td>1</td>\n",
       "      <td>3101298</td>\n",
       "      <td>12.2875</td>\n",
       "      <td>B57</td>\n",
       "      <td>S</td>\n",
       "    </tr>\n",
       "  </tbody>\n",
       "</table>\n",
       "</div>"
      ],
      "text/plain": [
       "   PassengerId  Survived  Pclass  \\\n",
       "0          892         0       3   \n",
       "1          893         1       3   \n",
       "2          894         0       2   \n",
       "3          895         0       3   \n",
       "4          896         1       3   \n",
       "\n",
       "                                           Name     Sex   Age  SibSp  Parch  \\\n",
       "0                              Kelly, Mr. James    male  34.5      0      0   \n",
       "1              Wilkes, Mrs. James (Ellen Needs)  female  47.0      1      0   \n",
       "2                     Myles, Mr. Thomas Francis    male  62.0      0      0   \n",
       "3                              Wirz, Mr. Albert    male  27.0      0      0   \n",
       "4  Hirvonen, Mrs. Alexander (Helga E Lindqvist)  female  22.0      1      1   \n",
       "\n",
       "    Ticket     Fare Cabin Embarked  \n",
       "0   330911   7.8292   B57        Q  \n",
       "1   363272   7.0000   B57        S  \n",
       "2   240276   9.6875   B57        Q  \n",
       "3   315154   8.6625   B57        S  \n",
       "4  3101298  12.2875   B57        S  "
      ]
     },
     "execution_count": 15,
     "metadata": {},
     "output_type": "execute_result"
    }
   ],
   "source": [
    "data['Cabin'].fillna(mode_cabinn, inplace=True)\n",
    "data.head()"
   ]
  },
  {
   "cell_type": "code",
   "execution_count": 45,
   "id": "0fa2f7ac",
   "metadata": {},
   "outputs": [
    {
     "data": {
      "text/html": [
       "<div>\n",
       "<style scoped>\n",
       "    .dataframe tbody tr th:only-of-type {\n",
       "        vertical-align: middle;\n",
       "    }\n",
       "\n",
       "    .dataframe tbody tr th {\n",
       "        vertical-align: top;\n",
       "    }\n",
       "\n",
       "    .dataframe thead th {\n",
       "        text-align: right;\n",
       "    }\n",
       "</style>\n",
       "<table border=\"1\" class=\"dataframe\">\n",
       "  <thead>\n",
       "    <tr style=\"text-align: right;\">\n",
       "      <th></th>\n",
       "      <th>Survived</th>\n",
       "      <th>Pclass</th>\n",
       "      <th>Sex</th>\n",
       "      <th>Age</th>\n",
       "      <th>SibSp</th>\n",
       "      <th>Parch</th>\n",
       "      <th>Fare</th>\n",
       "      <th>Embarked</th>\n",
       "    </tr>\n",
       "  </thead>\n",
       "  <tbody>\n",
       "    <tr>\n",
       "      <th>0</th>\n",
       "      <td>0</td>\n",
       "      <td>3</td>\n",
       "      <td>male</td>\n",
       "      <td>34.5</td>\n",
       "      <td>0</td>\n",
       "      <td>0</td>\n",
       "      <td>7.8292</td>\n",
       "      <td>Q</td>\n",
       "    </tr>\n",
       "    <tr>\n",
       "      <th>1</th>\n",
       "      <td>1</td>\n",
       "      <td>3</td>\n",
       "      <td>female</td>\n",
       "      <td>47.0</td>\n",
       "      <td>1</td>\n",
       "      <td>0</td>\n",
       "      <td>7.0000</td>\n",
       "      <td>S</td>\n",
       "    </tr>\n",
       "    <tr>\n",
       "      <th>2</th>\n",
       "      <td>0</td>\n",
       "      <td>2</td>\n",
       "      <td>male</td>\n",
       "      <td>62.0</td>\n",
       "      <td>0</td>\n",
       "      <td>0</td>\n",
       "      <td>9.6875</td>\n",
       "      <td>Q</td>\n",
       "    </tr>\n",
       "    <tr>\n",
       "      <th>3</th>\n",
       "      <td>0</td>\n",
       "      <td>3</td>\n",
       "      <td>male</td>\n",
       "      <td>27.0</td>\n",
       "      <td>0</td>\n",
       "      <td>0</td>\n",
       "      <td>8.6625</td>\n",
       "      <td>S</td>\n",
       "    </tr>\n",
       "    <tr>\n",
       "      <th>4</th>\n",
       "      <td>1</td>\n",
       "      <td>3</td>\n",
       "      <td>female</td>\n",
       "      <td>22.0</td>\n",
       "      <td>1</td>\n",
       "      <td>1</td>\n",
       "      <td>12.2875</td>\n",
       "      <td>S</td>\n",
       "    </tr>\n",
       "  </tbody>\n",
       "</table>\n",
       "</div>"
      ],
      "text/plain": [
       "   Survived  Pclass     Sex   Age  SibSp  Parch     Fare Embarked\n",
       "0         0       3    male  34.5      0      0   7.8292        Q\n",
       "1         1       3  female  47.0      1      0   7.0000        S\n",
       "2         0       2    male  62.0      0      0   9.6875        Q\n",
       "3         0       3    male  27.0      0      0   8.6625        S\n",
       "4         1       3  female  22.0      1      1  12.2875        S"
      ]
     },
     "execution_count": 45,
     "metadata": {},
     "output_type": "execute_result"
    }
   ],
   "source": [
    "Fare_mean = data['Fare'].mode()[0]\n",
    "\n",
    "data['Fare'].fillna(Fare_mean, inplace=True)\n",
    "data.head()\n",
    "#inplace=True: The inplace parameter, when set to True, means that the DataFrame 'data' will be modified in place"
   ]
  },
  {
   "cell_type": "code",
   "execution_count": 56,
   "id": "d0fe8f8e",
   "metadata": {},
   "outputs": [
    {
     "data": {
      "text/plain": [
       "21.0"
      ]
     },
     "execution_count": 56,
     "metadata": {},
     "output_type": "execute_result"
    }
   ],
   "source": [
    "data['Age'].mode()[0]\n"
   ]
  },
  {
   "cell_type": "code",
   "execution_count": 46,
   "id": "dd6f5122",
   "metadata": {},
   "outputs": [
    {
     "data": {
      "text/plain": [
       "Survived     0\n",
       "Pclass       0\n",
       "Sex          0\n",
       "Age         86\n",
       "SibSp        0\n",
       "Parch        0\n",
       "Fare         0\n",
       "Embarked     0\n",
       "dtype: int64"
      ]
     },
     "execution_count": 46,
     "metadata": {},
     "output_type": "execute_result"
    }
   ],
   "source": [
    "data.isna().sum()"
   ]
  },
  {
   "cell_type": "code",
   "execution_count": 16,
   "id": "c94e29b7",
   "metadata": {
    "execution": {
     "iopub.execute_input": "2022-11-25T16:37:36.567048Z",
     "iopub.status.busy": "2022-11-25T16:37:36.566399Z",
     "iopub.status.idle": "2022-11-25T16:37:37.485013Z",
     "shell.execute_reply": "2022-11-25T16:37:37.483676Z"
    },
    "papermill": {
     "duration": 0.932655,
     "end_time": "2022-11-25T16:37:37.487449",
     "exception": false,
     "start_time": "2022-11-25T16:37:36.554794",
     "status": "completed"
    },
    "tags": []
   },
   "outputs": [],
   "source": [
    "import seaborn as sns "
   ]
  },
  {
   "cell_type": "code",
   "execution_count": 17,
   "id": "e2ea3cc6",
   "metadata": {
    "execution": {
     "iopub.execute_input": "2022-11-25T16:37:37.510227Z",
     "iopub.status.busy": "2022-11-25T16:37:37.509880Z",
     "iopub.status.idle": "2022-11-25T16:37:38.235880Z",
     "shell.execute_reply": "2022-11-25T16:37:38.234943Z"
    },
    "papermill": {
     "duration": 0.73971,
     "end_time": "2022-11-25T16:37:38.237843",
     "exception": false,
     "start_time": "2022-11-25T16:37:37.498133",
     "status": "completed"
    },
    "scrolled": true,
    "tags": []
   },
   "outputs": [
    {
     "data": {
      "text/plain": [
       "<AxesSubplot:>"
      ]
     },
     "execution_count": 17,
     "metadata": {},
     "output_type": "execute_result"
    },
    {
     "data": {
      "image/png": "[encoded data removed]",
      "text/plain": [
       "<Figure size 2000x1000 with 2 Axes>"
      ]
     },
     "metadata": {},
     "output_type": "display_data"
    }
   ],
   "source": [
    "plt.figure(figsize=(20,10))\n",
    "sns.heatmap(data.isna(), cbar=True)"
   ]
  },
  {
   "cell_type": "code",
   "execution_count": 18,
   "id": "abaa7e35",
   "metadata": {
    "execution": {
     "iopub.execute_input": "2022-11-25T16:37:38.267157Z",
     "iopub.status.busy": "2022-11-25T16:37:38.266771Z",
     "iopub.status.idle": "2022-11-25T16:37:38.274778Z",
     "shell.execute_reply": "2022-11-25T16:37:38.274055Z"
    },
    "papermill": {
     "duration": 0.024886,
     "end_time": "2022-11-25T16:37:38.276501",
     "exception": false,
     "start_time": "2022-11-25T16:37:38.251615",
     "status": "completed"
    },
    "tags": []
   },
   "outputs": [
    {
     "data": {
      "text/plain": [
       "PassengerId     0\n",
       "Survived        0\n",
       "Pclass          0\n",
       "Name            0\n",
       "Sex             0\n",
       "Age            86\n",
       "SibSp           0\n",
       "Parch           0\n",
       "Ticket          0\n",
       "Fare            1\n",
       "Cabin           0\n",
       "Embarked        0\n",
       "dtype: int64"
      ]
     },
     "execution_count": 18,
     "metadata": {},
     "output_type": "execute_result"
    }
   ],
   "source": [
    "data.isna().sum()"
   ]
  },
  {
   "cell_type": "code",
   "execution_count": 19,
   "id": "80346f68",
   "metadata": {
    "execution": {
     "iopub.execute_input": "2022-11-25T16:37:38.301391Z",
     "iopub.status.busy": "2022-11-25T16:37:38.300593Z",
     "iopub.status.idle": "2022-11-25T16:37:38.307144Z",
     "shell.execute_reply": "2022-11-25T16:37:38.306500Z"
    },
    "papermill": {
     "duration": 0.021067,
     "end_time": "2022-11-25T16:37:38.309007",
     "exception": false,
     "start_time": "2022-11-25T16:37:38.287940",
     "status": "completed"
    },
    "tags": []
   },
   "outputs": [],
   "source": [
    "data=data.drop(['PassengerId','Name','Ticket','Cabin'],axis=1)"
   ]
  },
  {
   "cell_type": "code",
   "execution_count": 20,
   "id": "4d169d14",
   "metadata": {
    "execution": {
     "iopub.execute_input": "2022-11-25T16:37:38.334212Z",
     "iopub.status.busy": "2022-11-25T16:37:38.333614Z",
     "iopub.status.idle": "2022-11-25T16:37:38.349347Z",
     "shell.execute_reply": "2022-11-25T16:37:38.348654Z"
    },
    "papermill": {
     "duration": 0.031211,
     "end_time": "2022-11-25T16:37:38.351881",
     "exception": false,
     "start_time": "2022-11-25T16:37:38.320670",
     "status": "completed"
    },
    "tags": []
   },
   "outputs": [
    {
     "data": {
      "text/html": [
       "<div>\n",
       "<style scoped>\n",
       "    .dataframe tbody tr th:only-of-type {\n",
       "        vertical-align: middle;\n",
       "    }\n",
       "\n",
       "    .dataframe tbody tr th {\n",
       "        vertical-align: top;\n",
       "    }\n",
       "\n",
       "    .dataframe thead th {\n",
       "        text-align: right;\n",
       "    }\n",
       "</style>\n",
       "<table border=\"1\" class=\"dataframe\">\n",
       "  <thead>\n",
       "    <tr style=\"text-align: right;\">\n",
       "      <th></th>\n",
       "      <th>Survived</th>\n",
       "      <th>Pclass</th>\n",
       "      <th>Sex</th>\n",
       "      <th>Age</th>\n",
       "      <th>SibSp</th>\n",
       "      <th>Parch</th>\n",
       "      <th>Fare</th>\n",
       "      <th>Embarked</th>\n",
       "    </tr>\n",
       "  </thead>\n",
       "  <tbody>\n",
       "    <tr>\n",
       "      <th>0</th>\n",
       "      <td>0</td>\n",
       "      <td>3</td>\n",
       "      <td>male</td>\n",
       "      <td>34.5</td>\n",
       "      <td>0</td>\n",
       "      <td>0</td>\n",
       "      <td>7.8292</td>\n",
       "      <td>Q</td>\n",
       "    </tr>\n",
       "    <tr>\n",
       "      <th>1</th>\n",
       "      <td>1</td>\n",
       "      <td>3</td>\n",
       "      <td>female</td>\n",
       "      <td>47.0</td>\n",
       "      <td>1</td>\n",
       "      <td>0</td>\n",
       "      <td>7.0000</td>\n",
       "      <td>S</td>\n",
       "    </tr>\n",
       "    <tr>\n",
       "      <th>2</th>\n",
       "      <td>0</td>\n",
       "      <td>2</td>\n",
       "      <td>male</td>\n",
       "      <td>62.0</td>\n",
       "      <td>0</td>\n",
       "      <td>0</td>\n",
       "      <td>9.6875</td>\n",
       "      <td>Q</td>\n",
       "    </tr>\n",
       "    <tr>\n",
       "      <th>3</th>\n",
       "      <td>0</td>\n",
       "      <td>3</td>\n",
       "      <td>male</td>\n",
       "      <td>27.0</td>\n",
       "      <td>0</td>\n",
       "      <td>0</td>\n",
       "      <td>8.6625</td>\n",
       "      <td>S</td>\n",
       "    </tr>\n",
       "    <tr>\n",
       "      <th>4</th>\n",
       "      <td>1</td>\n",
       "      <td>3</td>\n",
       "      <td>female</td>\n",
       "      <td>22.0</td>\n",
       "      <td>1</td>\n",
       "      <td>1</td>\n",
       "      <td>12.2875</td>\n",
       "      <td>S</td>\n",
       "    </tr>\n",
       "    <tr>\n",
       "      <th>...</th>\n",
       "      <td>...</td>\n",
       "      <td>...</td>\n",
       "      <td>...</td>\n",
       "      <td>...</td>\n",
       "      <td>...</td>\n",
       "      <td>...</td>\n",
       "      <td>...</td>\n",
       "      <td>...</td>\n",
       "    </tr>\n",
       "    <tr>\n",
       "      <th>413</th>\n",
       "      <td>0</td>\n",
       "      <td>3</td>\n",
       "      <td>male</td>\n",
       "      <td>NaN</td>\n",
       "      <td>0</td>\n",
       "      <td>0</td>\n",
       "      <td>8.0500</td>\n",
       "      <td>S</td>\n",
       "    </tr>\n",
       "    <tr>\n",
       "      <th>414</th>\n",
       "      <td>1</td>\n",
       "      <td>1</td>\n",
       "      <td>female</td>\n",
       "      <td>39.0</td>\n",
       "      <td>0</td>\n",
       "      <td>0</td>\n",
       "      <td>108.9000</td>\n",
       "      <td>C</td>\n",
       "    </tr>\n",
       "    <tr>\n",
       "      <th>415</th>\n",
       "      <td>0</td>\n",
       "      <td>3</td>\n",
       "      <td>male</td>\n",
       "      <td>38.5</td>\n",
       "      <td>0</td>\n",
       "      <td>0</td>\n",
       "      <td>7.2500</td>\n",
       "      <td>S</td>\n",
       "    </tr>\n",
       "    <tr>\n",
       "      <th>416</th>\n",
       "      <td>0</td>\n",
       "      <td>3</td>\n",
       "      <td>male</td>\n",
       "      <td>NaN</td>\n",
       "      <td>0</td>\n",
       "      <td>0</td>\n",
       "      <td>8.0500</td>\n",
       "      <td>S</td>\n",
       "    </tr>\n",
       "    <tr>\n",
       "      <th>417</th>\n",
       "      <td>0</td>\n",
       "      <td>3</td>\n",
       "      <td>male</td>\n",
       "      <td>NaN</td>\n",
       "      <td>1</td>\n",
       "      <td>1</td>\n",
       "      <td>22.3583</td>\n",
       "      <td>C</td>\n",
       "    </tr>\n",
       "  </tbody>\n",
       "</table>\n",
       "<p>418 rows × 8 columns</p>\n",
       "</div>"
      ],
      "text/plain": [
       "     Survived  Pclass     Sex   Age  SibSp  Parch      Fare Embarked\n",
       "0           0       3    male  34.5      0      0    7.8292        Q\n",
       "1           1       3  female  47.0      1      0    7.0000        S\n",
       "2           0       2    male  62.0      0      0    9.6875        Q\n",
       "3           0       3    male  27.0      0      0    8.6625        S\n",
       "4           1       3  female  22.0      1      1   12.2875        S\n",
       "..        ...     ...     ...   ...    ...    ...       ...      ...\n",
       "413         0       3    male   NaN      0      0    8.0500        S\n",
       "414         1       1  female  39.0      0      0  108.9000        C\n",
       "415         0       3    male  38.5      0      0    7.2500        S\n",
       "416         0       3    male   NaN      0      0    8.0500        S\n",
       "417         0       3    male   NaN      1      1   22.3583        C\n",
       "\n",
       "[418 rows x 8 columns]"
      ]
     },
     "execution_count": 20,
     "metadata": {},
     "output_type": "execute_result"
    }
   ],
   "source": [
    "data"
   ]
  },
  {
   "cell_type": "code",
   "execution_count": 21,
   "id": "7176f9af",
   "metadata": {
    "execution": {
     "iopub.execute_input": "2022-11-25T16:37:38.376976Z",
     "iopub.status.busy": "2022-11-25T16:37:38.376602Z",
     "iopub.status.idle": "2022-11-25T16:37:38.388217Z",
     "shell.execute_reply": "2022-11-25T16:37:38.387353Z"
    },
    "papermill": {
     "duration": 0.026967,
     "end_time": "2022-11-25T16:37:38.390617",
     "exception": false,
     "start_time": "2022-11-25T16:37:38.363650",
     "status": "completed"
    },
    "tags": []
   },
   "outputs": [
    {
     "name": "stdout",
     "output_type": "stream",
     "text": [
      "<class 'pandas.core.frame.DataFrame'>\n",
      "RangeIndex: 418 entries, 0 to 417\n",
      "Data columns (total 8 columns):\n",
      " #   Column    Non-Null Count  Dtype  \n",
      "---  ------    --------------  -----  \n",
      " 0   Survived  418 non-null    int64  \n",
      " 1   Pclass    418 non-null    int64  \n",
      " 2   Sex       418 non-null    object \n",
      " 3   Age       332 non-null    float64\n",
      " 4   SibSp     418 non-null    int64  \n",
      " 5   Parch     418 non-null    int64  \n",
      " 6   Fare      417 non-null    float64\n",
      " 7   Embarked  418 non-null    object \n",
      "dtypes: float64(2), int64(4), object(2)\n",
      "memory usage: 26.2+ KB\n"
     ]
    }
   ],
   "source": [
    "data.info()"
   ]
  },
  {
   "cell_type": "markdown",
   "id": "d4d1fe7b",
   "metadata": {
    "papermill": {
     "duration": 0.011653,
     "end_time": "2022-11-25T16:37:38.414090",
     "exception": false,
     "start_time": "2022-11-25T16:37:38.402437",
     "status": "completed"
    },
    "tags": []
   },
   "source": [
    "# Etude Statistique"
   ]
  },
  {
   "cell_type": "code",
   "execution_count": 22,
   "id": "74f7825d",
   "metadata": {
    "execution": {
     "iopub.execute_input": "2022-11-25T16:37:38.440679Z",
     "iopub.status.busy": "2022-11-25T16:37:38.439613Z",
     "iopub.status.idle": "2022-11-25T16:37:38.467952Z",
     "shell.execute_reply": "2022-11-25T16:37:38.466589Z"
    },
    "papermill": {
     "duration": 0.044357,
     "end_time": "2022-11-25T16:37:38.470590",
     "exception": false,
     "start_time": "2022-11-25T16:37:38.426233",
     "status": "completed"
    },
    "tags": []
   },
   "outputs": [
    {
     "data": {
      "text/html": [
       "<div>\n",
       "<style scoped>\n",
       "    .dataframe tbody tr th:only-of-type {\n",
       "        vertical-align: middle;\n",
       "    }\n",
       "\n",
       "    .dataframe tbody tr th {\n",
       "        vertical-align: top;\n",
       "    }\n",
       "\n",
       "    .dataframe thead th {\n",
       "        text-align: right;\n",
       "    }\n",
       "</style>\n",
       "<table border=\"1\" class=\"dataframe\">\n",
       "  <thead>\n",
       "    <tr style=\"text-align: right;\">\n",
       "      <th></th>\n",
       "      <th>Survived</th>\n",
       "      <th>Pclass</th>\n",
       "      <th>Age</th>\n",
       "      <th>SibSp</th>\n",
       "      <th>Parch</th>\n",
       "      <th>Fare</th>\n",
       "    </tr>\n",
       "  </thead>\n",
       "  <tbody>\n",
       "    <tr>\n",
       "      <th>count</th>\n",
       "      <td>418.000000</td>\n",
       "      <td>418.000000</td>\n",
       "      <td>332.000000</td>\n",
       "      <td>418.000000</td>\n",
       "      <td>418.000000</td>\n",
       "      <td>417.000000</td>\n",
       "    </tr>\n",
       "    <tr>\n",
       "      <th>mean</th>\n",
       "      <td>0.363636</td>\n",
       "      <td>2.265550</td>\n",
       "      <td>30.272590</td>\n",
       "      <td>0.447368</td>\n",
       "      <td>0.392344</td>\n",
       "      <td>35.627188</td>\n",
       "    </tr>\n",
       "    <tr>\n",
       "      <th>std</th>\n",
       "      <td>0.481622</td>\n",
       "      <td>0.841838</td>\n",
       "      <td>14.181209</td>\n",
       "      <td>0.896760</td>\n",
       "      <td>0.981429</td>\n",
       "      <td>55.907576</td>\n",
       "    </tr>\n",
       "    <tr>\n",
       "      <th>min</th>\n",
       "      <td>0.000000</td>\n",
       "      <td>1.000000</td>\n",
       "      <td>0.170000</td>\n",
       "      <td>0.000000</td>\n",
       "      <td>0.000000</td>\n",
       "      <td>0.000000</td>\n",
       "    </tr>\n",
       "    <tr>\n",
       "      <th>25%</th>\n",
       "      <td>0.000000</td>\n",
       "      <td>1.000000</td>\n",
       "      <td>21.000000</td>\n",
       "      <td>0.000000</td>\n",
       "      <td>0.000000</td>\n",
       "      <td>7.895800</td>\n",
       "    </tr>\n",
       "    <tr>\n",
       "      <th>50%</th>\n",
       "      <td>0.000000</td>\n",
       "      <td>3.000000</td>\n",
       "      <td>27.000000</td>\n",
       "      <td>0.000000</td>\n",
       "      <td>0.000000</td>\n",
       "      <td>14.454200</td>\n",
       "    </tr>\n",
       "    <tr>\n",
       "      <th>75%</th>\n",
       "      <td>1.000000</td>\n",
       "      <td>3.000000</td>\n",
       "      <td>39.000000</td>\n",
       "      <td>1.000000</td>\n",
       "      <td>0.000000</td>\n",
       "      <td>31.500000</td>\n",
       "    </tr>\n",
       "    <tr>\n",
       "      <th>max</th>\n",
       "      <td>1.000000</td>\n",
       "      <td>3.000000</td>\n",
       "      <td>76.000000</td>\n",
       "      <td>8.000000</td>\n",
       "      <td>9.000000</td>\n",
       "      <td>512.329200</td>\n",
       "    </tr>\n",
       "  </tbody>\n",
       "</table>\n",
       "</div>"
      ],
      "text/plain": [
       "         Survived      Pclass         Age       SibSp       Parch        Fare\n",
       "count  418.000000  418.000000  332.000000  418.000000  418.000000  417.000000\n",
       "mean     0.363636    2.265550   30.272590    0.447368    0.392344   35.627188\n",
       "std      0.481622    0.841838   14.181209    0.896760    0.981429   55.907576\n",
       "min      0.000000    1.000000    0.170000    0.000000    0.000000    0.000000\n",
       "25%      0.000000    1.000000   21.000000    0.000000    0.000000    7.895800\n",
       "50%      0.000000    3.000000   27.000000    0.000000    0.000000   14.454200\n",
       "75%      1.000000    3.000000   39.000000    1.000000    0.000000   31.500000\n",
       "max      1.000000    3.000000   76.000000    8.000000    9.000000  512.329200"
      ]
     },
     "execution_count": 22,
     "metadata": {},
     "output_type": "execute_result"
    }
   ],
   "source": [
    "data.describe ()"
   ]
  },
  {
   "cell_type": "code",
   "execution_count": 23,
   "id": "0a24a1eb",
   "metadata": {
    "execution": {
     "iopub.execute_input": "2022-11-25T16:37:38.496356Z",
     "iopub.status.busy": "2022-11-25T16:37:38.495991Z",
     "iopub.status.idle": "2022-11-25T16:37:38.525301Z",
     "shell.execute_reply": "2022-11-25T16:37:38.524370Z"
    },
    "papermill": {
     "duration": 0.045116,
     "end_time": "2022-11-25T16:37:38.527906",
     "exception": false,
     "start_time": "2022-11-25T16:37:38.482790",
     "status": "completed"
    },
    "tags": []
   },
   "outputs": [
    {
     "data": {
      "text/html": [
       "<div>\n",
       "<style scoped>\n",
       "    .dataframe tbody tr th:only-of-type {\n",
       "        vertical-align: middle;\n",
       "    }\n",
       "\n",
       "    .dataframe tbody tr th {\n",
       "        vertical-align: top;\n",
       "    }\n",
       "\n",
       "    .dataframe thead th {\n",
       "        text-align: right;\n",
       "    }\n",
       "</style>\n",
       "<table border=\"1\" class=\"dataframe\">\n",
       "  <thead>\n",
       "    <tr style=\"text-align: right;\">\n",
       "      <th></th>\n",
       "      <th>Survived</th>\n",
       "      <th>Pclass</th>\n",
       "      <th>Sex</th>\n",
       "      <th>Age</th>\n",
       "      <th>SibSp</th>\n",
       "      <th>Parch</th>\n",
       "      <th>Fare</th>\n",
       "      <th>Embarked</th>\n",
       "    </tr>\n",
       "  </thead>\n",
       "  <tbody>\n",
       "    <tr>\n",
       "      <th>count</th>\n",
       "      <td>418.000000</td>\n",
       "      <td>418.000000</td>\n",
       "      <td>418</td>\n",
       "      <td>332.000000</td>\n",
       "      <td>418.000000</td>\n",
       "      <td>418.000000</td>\n",
       "      <td>417.000000</td>\n",
       "      <td>418</td>\n",
       "    </tr>\n",
       "    <tr>\n",
       "      <th>unique</th>\n",
       "      <td>NaN</td>\n",
       "      <td>NaN</td>\n",
       "      <td>2</td>\n",
       "      <td>NaN</td>\n",
       "      <td>NaN</td>\n",
       "      <td>NaN</td>\n",
       "      <td>NaN</td>\n",
       "      <td>3</td>\n",
       "    </tr>\n",
       "    <tr>\n",
       "      <th>top</th>\n",
       "      <td>NaN</td>\n",
       "      <td>NaN</td>\n",
       "      <td>male</td>\n",
       "      <td>NaN</td>\n",
       "      <td>NaN</td>\n",
       "      <td>NaN</td>\n",
       "      <td>NaN</td>\n",
       "      <td>S</td>\n",
       "    </tr>\n",
       "    <tr>\n",
       "      <th>freq</th>\n",
       "      <td>NaN</td>\n",
       "      <td>NaN</td>\n",
       "      <td>266</td>\n",
       "      <td>NaN</td>\n",
       "      <td>NaN</td>\n",
       "      <td>NaN</td>\n",
       "      <td>NaN</td>\n",
       "      <td>270</td>\n",
       "    </tr>\n",
       "    <tr>\n",
       "      <th>mean</th>\n",
       "      <td>0.363636</td>\n",
       "      <td>2.265550</td>\n",
       "      <td>NaN</td>\n",
       "      <td>30.272590</td>\n",
       "      <td>0.447368</td>\n",
       "      <td>0.392344</td>\n",
       "      <td>35.627188</td>\n",
       "      <td>NaN</td>\n",
       "    </tr>\n",
       "    <tr>\n",
       "      <th>std</th>\n",
       "      <td>0.481622</td>\n",
       "      <td>0.841838</td>\n",
       "      <td>NaN</td>\n",
       "      <td>14.181209</td>\n",
       "      <td>0.896760</td>\n",
       "      <td>0.981429</td>\n",
       "      <td>55.907576</td>\n",
       "      <td>NaN</td>\n",
       "    </tr>\n",
       "    <tr>\n",
       "      <th>min</th>\n",
       "      <td>0.000000</td>\n",
       "      <td>1.000000</td>\n",
       "      <td>NaN</td>\n",
       "      <td>0.170000</td>\n",
       "      <td>0.000000</td>\n",
       "      <td>0.000000</td>\n",
       "      <td>0.000000</td>\n",
       "      <td>NaN</td>\n",
       "    </tr>\n",
       "    <tr>\n",
       "      <th>25%</th>\n",
       "      <td>0.000000</td>\n",
       "      <td>1.000000</td>\n",
       "      <td>NaN</td>\n",
       "      <td>21.000000</td>\n",
       "      <td>0.000000</td>\n",
       "      <td>0.000000</td>\n",
       "      <td>7.895800</td>\n",
       "      <td>NaN</td>\n",
       "    </tr>\n",
       "    <tr>\n",
       "      <th>50%</th>\n",
       "      <td>0.000000</td>\n",
       "      <td>3.000000</td>\n",
       "      <td>NaN</td>\n",
       "      <td>27.000000</td>\n",
       "      <td>0.000000</td>\n",
       "      <td>0.000000</td>\n",
       "      <td>14.454200</td>\n",
       "      <td>NaN</td>\n",
       "    </tr>\n",
       "    <tr>\n",
       "      <th>75%</th>\n",
       "      <td>1.000000</td>\n",
       "      <td>3.000000</td>\n",
       "      <td>NaN</td>\n",
       "      <td>39.000000</td>\n",
       "      <td>1.000000</td>\n",
       "      <td>0.000000</td>\n",
       "      <td>31.500000</td>\n",
       "      <td>NaN</td>\n",
       "    </tr>\n",
       "    <tr>\n",
       "      <th>max</th>\n",
       "      <td>1.000000</td>\n",
       "      <td>3.000000</td>\n",
       "      <td>NaN</td>\n",
       "      <td>76.000000</td>\n",
       "      <td>8.000000</td>\n",
       "      <td>9.000000</td>\n",
       "      <td>512.329200</td>\n",
       "      <td>NaN</td>\n",
       "    </tr>\n",
       "  </tbody>\n",
       "</table>\n",
       "</div>"
      ],
      "text/plain": [
       "          Survived      Pclass   Sex         Age       SibSp       Parch  \\\n",
       "count   418.000000  418.000000   418  332.000000  418.000000  418.000000   \n",
       "unique         NaN         NaN     2         NaN         NaN         NaN   \n",
       "top            NaN         NaN  male         NaN         NaN         NaN   \n",
       "freq           NaN         NaN   266         NaN         NaN         NaN   \n",
       "mean      0.363636    2.265550   NaN   30.272590    0.447368    0.392344   \n",
       "std       0.481622    0.841838   NaN   14.181209    0.896760    0.981429   \n",
       "min       0.000000    1.000000   NaN    0.170000    0.000000    0.000000   \n",
       "25%       0.000000    1.000000   NaN   21.000000    0.000000    0.000000   \n",
       "50%       0.000000    3.000000   NaN   27.000000    0.000000    0.000000   \n",
       "75%       1.000000    3.000000   NaN   39.000000    1.000000    0.000000   \n",
       "max       1.000000    3.000000   NaN   76.000000    8.000000    9.000000   \n",
       "\n",
       "              Fare Embarked  \n",
       "count   417.000000      418  \n",
       "unique         NaN        3  \n",
       "top            NaN        S  \n",
       "freq           NaN      270  \n",
       "mean     35.627188      NaN  \n",
       "std      55.907576      NaN  \n",
       "min       0.000000      NaN  \n",
       "25%       7.895800      NaN  \n",
       "50%      14.454200      NaN  \n",
       "75%      31.500000      NaN  \n",
       "max     512.329200      NaN  "
      ]
     },
     "execution_count": 23,
     "metadata": {},
     "output_type": "execute_result"
    }
   ],
   "source": [
    "data.describe (include='all')"
   ]
  },
  {
   "cell_type": "code",
   "execution_count": 24,
   "id": "5c33c97f",
   "metadata": {
    "execution": {
     "iopub.execute_input": "2022-11-25T16:37:38.554354Z",
     "iopub.status.busy": "2022-11-25T16:37:38.553980Z",
     "iopub.status.idle": "2022-11-25T16:37:38.567673Z",
     "shell.execute_reply": "2022-11-25T16:37:38.566740Z"
    },
    "papermill": {
     "duration": 0.029594,
     "end_time": "2022-11-25T16:37:38.569959",
     "exception": false,
     "start_time": "2022-11-25T16:37:38.540365",
     "status": "completed"
    },
    "tags": []
   },
   "outputs": [
    {
     "data": {
      "text/html": [
       "<div>\n",
       "<style scoped>\n",
       "    .dataframe tbody tr th:only-of-type {\n",
       "        vertical-align: middle;\n",
       "    }\n",
       "\n",
       "    .dataframe tbody tr th {\n",
       "        vertical-align: top;\n",
       "    }\n",
       "\n",
       "    .dataframe thead th {\n",
       "        text-align: right;\n",
       "    }\n",
       "</style>\n",
       "<table border=\"1\" class=\"dataframe\">\n",
       "  <thead>\n",
       "    <tr style=\"text-align: right;\">\n",
       "      <th></th>\n",
       "      <th>Sex</th>\n",
       "      <th>Embarked</th>\n",
       "    </tr>\n",
       "  </thead>\n",
       "  <tbody>\n",
       "    <tr>\n",
       "      <th>count</th>\n",
       "      <td>418</td>\n",
       "      <td>418</td>\n",
       "    </tr>\n",
       "    <tr>\n",
       "      <th>unique</th>\n",
       "      <td>2</td>\n",
       "      <td>3</td>\n",
       "    </tr>\n",
       "    <tr>\n",
       "      <th>top</th>\n",
       "      <td>male</td>\n",
       "      <td>S</td>\n",
       "    </tr>\n",
       "    <tr>\n",
       "      <th>freq</th>\n",
       "      <td>266</td>\n",
       "      <td>270</td>\n",
       "    </tr>\n",
       "  </tbody>\n",
       "</table>\n",
       "</div>"
      ],
      "text/plain": [
       "         Sex Embarked\n",
       "count    418      418\n",
       "unique     2        3\n",
       "top     male        S\n",
       "freq     266      270"
      ]
     },
     "execution_count": 24,
     "metadata": {},
     "output_type": "execute_result"
    }
   ],
   "source": [
    "data.describe(include='O')"
   ]
  },
  {
   "cell_type": "code",
   "execution_count": 25,
   "id": "ab283b67",
   "metadata": {
    "execution": {
     "iopub.execute_input": "2022-11-25T16:37:38.595897Z",
     "iopub.status.busy": "2022-11-25T16:37:38.595536Z",
     "iopub.status.idle": "2022-11-25T16:37:38.601845Z",
     "shell.execute_reply": "2022-11-25T16:37:38.600573Z"
    },
    "papermill": {
     "duration": 0.02156,
     "end_time": "2022-11-25T16:37:38.603954",
     "exception": false,
     "start_time": "2022-11-25T16:37:38.582394",
     "status": "completed"
    },
    "tags": []
   },
   "outputs": [],
   "source": [
    "corr=data.corr()"
   ]
  },
  {
   "cell_type": "code",
   "execution_count": 26,
   "id": "65d55c6d",
   "metadata": {
    "execution": {
     "iopub.execute_input": "2022-11-25T16:37:38.630678Z",
     "iopub.status.busy": "2022-11-25T16:37:38.629602Z",
     "iopub.status.idle": "2022-11-25T16:37:38.642957Z",
     "shell.execute_reply": "2022-11-25T16:37:38.641735Z"
    },
    "papermill": {
     "duration": 0.028456,
     "end_time": "2022-11-25T16:37:38.644767",
     "exception": false,
     "start_time": "2022-11-25T16:37:38.616311",
     "status": "completed"
    },
    "tags": []
   },
   "outputs": [
    {
     "data": {
      "text/html": [
       "<div>\n",
       "<style scoped>\n",
       "    .dataframe tbody tr th:only-of-type {\n",
       "        vertical-align: middle;\n",
       "    }\n",
       "\n",
       "    .dataframe tbody tr th {\n",
       "        vertical-align: top;\n",
       "    }\n",
       "\n",
       "    .dataframe thead th {\n",
       "        text-align: right;\n",
       "    }\n",
       "</style>\n",
       "<table border=\"1\" class=\"dataframe\">\n",
       "  <thead>\n",
       "    <tr style=\"text-align: right;\">\n",
       "      <th></th>\n",
       "      <th>Survived</th>\n",
       "      <th>Pclass</th>\n",
       "      <th>Age</th>\n",
       "      <th>SibSp</th>\n",
       "      <th>Parch</th>\n",
       "      <th>Fare</th>\n",
       "    </tr>\n",
       "  </thead>\n",
       "  <tbody>\n",
       "    <tr>\n",
       "      <th>Survived</th>\n",
       "      <td>1.000000</td>\n",
       "      <td>-0.108615</td>\n",
       "      <td>-0.000013</td>\n",
       "      <td>0.099943</td>\n",
       "      <td>0.159120</td>\n",
       "      <td>0.191514</td>\n",
       "    </tr>\n",
       "    <tr>\n",
       "      <th>Pclass</th>\n",
       "      <td>-0.108615</td>\n",
       "      <td>1.000000</td>\n",
       "      <td>-0.492143</td>\n",
       "      <td>0.001087</td>\n",
       "      <td>0.018721</td>\n",
       "      <td>-0.577147</td>\n",
       "    </tr>\n",
       "    <tr>\n",
       "      <th>Age</th>\n",
       "      <td>-0.000013</td>\n",
       "      <td>-0.492143</td>\n",
       "      <td>1.000000</td>\n",
       "      <td>-0.091587</td>\n",
       "      <td>-0.061249</td>\n",
       "      <td>0.337932</td>\n",
       "    </tr>\n",
       "    <tr>\n",
       "      <th>SibSp</th>\n",
       "      <td>0.099943</td>\n",
       "      <td>0.001087</td>\n",
       "      <td>-0.091587</td>\n",
       "      <td>1.000000</td>\n",
       "      <td>0.306895</td>\n",
       "      <td>0.171539</td>\n",
       "    </tr>\n",
       "    <tr>\n",
       "      <th>Parch</th>\n",
       "      <td>0.159120</td>\n",
       "      <td>0.018721</td>\n",
       "      <td>-0.061249</td>\n",
       "      <td>0.306895</td>\n",
       "      <td>1.000000</td>\n",
       "      <td>0.230046</td>\n",
       "    </tr>\n",
       "    <tr>\n",
       "      <th>Fare</th>\n",
       "      <td>0.191514</td>\n",
       "      <td>-0.577147</td>\n",
       "      <td>0.337932</td>\n",
       "      <td>0.171539</td>\n",
       "      <td>0.230046</td>\n",
       "      <td>1.000000</td>\n",
       "    </tr>\n",
       "  </tbody>\n",
       "</table>\n",
       "</div>"
      ],
      "text/plain": [
       "          Survived    Pclass       Age     SibSp     Parch      Fare\n",
       "Survived  1.000000 -0.108615 -0.000013  0.099943  0.159120  0.191514\n",
       "Pclass   -0.108615  1.000000 -0.492143  0.001087  0.018721 -0.577147\n",
       "Age      -0.000013 -0.492143  1.000000 -0.091587 -0.061249  0.337932\n",
       "SibSp     0.099943  0.001087 -0.091587  1.000000  0.306895  0.171539\n",
       "Parch     0.159120  0.018721 -0.061249  0.306895  1.000000  0.230046\n",
       "Fare      0.191514 -0.577147  0.337932  0.171539  0.230046  1.000000"
      ]
     },
     "execution_count": 26,
     "metadata": {},
     "output_type": "execute_result"
    }
   ],
   "source": [
    "corr"
   ]
  },
  {
   "cell_type": "code",
   "execution_count": 27,
   "id": "92b48754",
   "metadata": {
    "execution": {
     "iopub.execute_input": "2022-11-25T16:37:38.670956Z",
     "iopub.status.busy": "2022-11-25T16:37:38.670591Z",
     "iopub.status.idle": "2022-11-25T16:37:39.003323Z",
     "shell.execute_reply": "2022-11-25T16:37:39.001801Z"
    },
    "papermill": {
     "duration": 0.348796,
     "end_time": "2022-11-25T16:37:39.005920",
     "exception": false,
     "start_time": "2022-11-25T16:37:38.657124",
     "status": "completed"
    },
    "tags": []
   },
   "outputs": [
    {
     "data": {
      "text/plain": [
       "<AxesSubplot:>"
      ]
     },
     "execution_count": 27,
     "metadata": {},
     "output_type": "execute_result"
    },
    {
     "data": {
      "image/png": "[encoded data removed]",
      "text/plain": [
       "<Figure size 1000x1000 with 2 Axes>"
      ]
     },
     "metadata": {},
     "output_type": "display_data"
    }
   ],
   "source": [
    "plt.figure(figsize=(10,10))\n",
    "sns.heatmap(corr,annot=True)"
   ]
  },
  {
   "cell_type": "markdown",
   "id": "15d448a5",
   "metadata": {
    "papermill": {
     "duration": 0.012848,
     "end_time": "2022-11-25T16:37:39.032221",
     "exception": false,
     "start_time": "2022-11-25T16:37:39.019373",
     "status": "completed"
    },
    "tags": []
   },
   "source": [
    "# Spliting Data into categorical data and numerical Data"
   ]
  },
  {
   "cell_type": "code",
   "execution_count": 28,
   "id": "49283f99",
   "metadata": {
    "execution": {
     "iopub.execute_input": "2022-11-25T16:37:39.065053Z",
     "iopub.status.busy": "2022-11-25T16:37:39.064658Z",
     "iopub.status.idle": "2022-11-25T16:37:39.087136Z",
     "shell.execute_reply": "2022-11-25T16:37:39.086136Z"
    },
    "papermill": {
     "duration": 0.043003,
     "end_time": "2022-11-25T16:37:39.089596",
     "exception": false,
     "start_time": "2022-11-25T16:37:39.046593",
     "status": "completed"
    },
    "tags": []
   },
   "outputs": [],
   "source": [
    "categorical_data=pd.DataFrame([data.Sex,data.Embarked,data.Survived,data.Pclass,data.SibSp,data.Parch])\n"
   ]
  },
  {
   "cell_type": "code",
   "execution_count": 29,
   "id": "f7f0eb52",
   "metadata": {
    "execution": {
     "iopub.execute_input": "2022-11-25T16:37:39.117367Z",
     "iopub.status.busy": "2022-11-25T16:37:39.116998Z",
     "iopub.status.idle": "2022-11-25T16:37:39.124974Z",
     "shell.execute_reply": "2022-11-25T16:37:39.123821Z"
    },
    "papermill": {
     "duration": 0.024438,
     "end_time": "2022-11-25T16:37:39.127290",
     "exception": false,
     "start_time": "2022-11-25T16:37:39.102852",
     "status": "completed"
    },
    "tags": []
   },
   "outputs": [],
   "source": [
    "categorical_data=categorical_data.T\n"
   ]
  },
  {
   "cell_type": "code",
   "execution_count": 30,
   "id": "c8d4c58e",
   "metadata": {
    "execution": {
     "iopub.execute_input": "2022-11-25T16:37:39.155792Z",
     "iopub.status.busy": "2022-11-25T16:37:39.155408Z",
     "iopub.status.idle": "2022-11-25T16:37:39.171225Z",
     "shell.execute_reply": "2022-11-25T16:37:39.170349Z"
    },
    "papermill": {
     "duration": 0.032266,
     "end_time": "2022-11-25T16:37:39.173050",
     "exception": false,
     "start_time": "2022-11-25T16:37:39.140784",
     "status": "completed"
    },
    "tags": []
   },
   "outputs": [
    {
     "data": {
      "text/html": [
       "<div>\n",
       "<style scoped>\n",
       "    .dataframe tbody tr th:only-of-type {\n",
       "        vertical-align: middle;\n",
       "    }\n",
       "\n",
       "    .dataframe tbody tr th {\n",
       "        vertical-align: top;\n",
       "    }\n",
       "\n",
       "    .dataframe thead th {\n",
       "        text-align: right;\n",
       "    }\n",
       "</style>\n",
       "<table border=\"1\" class=\"dataframe\">\n",
       "  <thead>\n",
       "    <tr style=\"text-align: right;\">\n",
       "      <th></th>\n",
       "      <th>Sex</th>\n",
       "      <th>Embarked</th>\n",
       "      <th>Survived</th>\n",
       "      <th>Pclass</th>\n",
       "      <th>SibSp</th>\n",
       "      <th>Parch</th>\n",
       "    </tr>\n",
       "  </thead>\n",
       "  <tbody>\n",
       "    <tr>\n",
       "      <th>0</th>\n",
       "      <td>male</td>\n",
       "      <td>Q</td>\n",
       "      <td>0</td>\n",
       "      <td>3</td>\n",
       "      <td>0</td>\n",
       "      <td>0</td>\n",
       "    </tr>\n",
       "    <tr>\n",
       "      <th>1</th>\n",
       "      <td>female</td>\n",
       "      <td>S</td>\n",
       "      <td>1</td>\n",
       "      <td>3</td>\n",
       "      <td>1</td>\n",
       "      <td>0</td>\n",
       "    </tr>\n",
       "    <tr>\n",
       "      <th>2</th>\n",
       "      <td>male</td>\n",
       "      <td>Q</td>\n",
       "      <td>0</td>\n",
       "      <td>2</td>\n",
       "      <td>0</td>\n",
       "      <td>0</td>\n",
       "    </tr>\n",
       "    <tr>\n",
       "      <th>3</th>\n",
       "      <td>male</td>\n",
       "      <td>S</td>\n",
       "      <td>0</td>\n",
       "      <td>3</td>\n",
       "      <td>0</td>\n",
       "      <td>0</td>\n",
       "    </tr>\n",
       "    <tr>\n",
       "      <th>4</th>\n",
       "      <td>female</td>\n",
       "      <td>S</td>\n",
       "      <td>1</td>\n",
       "      <td>3</td>\n",
       "      <td>1</td>\n",
       "      <td>1</td>\n",
       "    </tr>\n",
       "    <tr>\n",
       "      <th>...</th>\n",
       "      <td>...</td>\n",
       "      <td>...</td>\n",
       "      <td>...</td>\n",
       "      <td>...</td>\n",
       "      <td>...</td>\n",
       "      <td>...</td>\n",
       "    </tr>\n",
       "    <tr>\n",
       "      <th>413</th>\n",
       "      <td>male</td>\n",
       "      <td>S</td>\n",
       "      <td>0</td>\n",
       "      <td>3</td>\n",
       "      <td>0</td>\n",
       "      <td>0</td>\n",
       "    </tr>\n",
       "    <tr>\n",
       "      <th>414</th>\n",
       "      <td>female</td>\n",
       "      <td>C</td>\n",
       "      <td>1</td>\n",
       "      <td>1</td>\n",
       "      <td>0</td>\n",
       "      <td>0</td>\n",
       "    </tr>\n",
       "    <tr>\n",
       "      <th>415</th>\n",
       "      <td>male</td>\n",
       "      <td>S</td>\n",
       "      <td>0</td>\n",
       "      <td>3</td>\n",
       "      <td>0</td>\n",
       "      <td>0</td>\n",
       "    </tr>\n",
       "    <tr>\n",
       "      <th>416</th>\n",
       "      <td>male</td>\n",
       "      <td>S</td>\n",
       "      <td>0</td>\n",
       "      <td>3</td>\n",
       "      <td>0</td>\n",
       "      <td>0</td>\n",
       "    </tr>\n",
       "    <tr>\n",
       "      <th>417</th>\n",
       "      <td>male</td>\n",
       "      <td>C</td>\n",
       "      <td>0</td>\n",
       "      <td>3</td>\n",
       "      <td>1</td>\n",
       "      <td>1</td>\n",
       "    </tr>\n",
       "  </tbody>\n",
       "</table>\n",
       "<p>418 rows × 6 columns</p>\n",
       "</div>"
      ],
      "text/plain": [
       "        Sex Embarked Survived Pclass SibSp Parch\n",
       "0      male        Q        0      3     0     0\n",
       "1    female        S        1      3     1     0\n",
       "2      male        Q        0      2     0     0\n",
       "3      male        S        0      3     0     0\n",
       "4    female        S        1      3     1     1\n",
       "..      ...      ...      ...    ...   ...   ...\n",
       "413    male        S        0      3     0     0\n",
       "414  female        C        1      1     0     0\n",
       "415    male        S        0      3     0     0\n",
       "416    male        S        0      3     0     0\n",
       "417    male        C        0      3     1     1\n",
       "\n",
       "[418 rows x 6 columns]"
      ]
     },
     "execution_count": 30,
     "metadata": {},
     "output_type": "execute_result"
    }
   ],
   "source": [
    "categorical_data"
   ]
  },
  {
   "cell_type": "code",
   "execution_count": 31,
   "id": "b862ac98",
   "metadata": {
    "execution": {
     "iopub.execute_input": "2022-11-25T16:37:39.200967Z",
     "iopub.status.busy": "2022-11-25T16:37:39.200202Z",
     "iopub.status.idle": "2022-11-25T16:37:39.210795Z",
     "shell.execute_reply": "2022-11-25T16:37:39.210048Z"
    },
    "papermill": {
     "duration": 0.026473,
     "end_time": "2022-11-25T16:37:39.212583",
     "exception": false,
     "start_time": "2022-11-25T16:37:39.186110",
     "status": "completed"
    },
    "tags": []
   },
   "outputs": [],
   "source": [
    "numerical_data=pd.DataFrame([data.Age,data.Fare])"
   ]
  },
  {
   "cell_type": "code",
   "execution_count": 32,
   "id": "8c000f5f",
   "metadata": {
    "execution": {
     "iopub.execute_input": "2022-11-25T16:37:39.240025Z",
     "iopub.status.busy": "2022-11-25T16:37:39.239681Z",
     "iopub.status.idle": "2022-11-25T16:37:39.251673Z",
     "shell.execute_reply": "2022-11-25T16:37:39.250870Z"
    },
    "papermill": {
     "duration": 0.027473,
     "end_time": "2022-11-25T16:37:39.253308",
     "exception": false,
     "start_time": "2022-11-25T16:37:39.225835",
     "status": "completed"
    },
    "tags": []
   },
   "outputs": [
    {
     "data": {
      "text/html": [
       "<div>\n",
       "<style scoped>\n",
       "    .dataframe tbody tr th:only-of-type {\n",
       "        vertical-align: middle;\n",
       "    }\n",
       "\n",
       "    .dataframe tbody tr th {\n",
       "        vertical-align: top;\n",
       "    }\n",
       "\n",
       "    .dataframe thead th {\n",
       "        text-align: right;\n",
       "    }\n",
       "</style>\n",
       "<table border=\"1\" class=\"dataframe\">\n",
       "  <thead>\n",
       "    <tr style=\"text-align: right;\">\n",
       "      <th></th>\n",
       "      <th>Age</th>\n",
       "      <th>Fare</th>\n",
       "    </tr>\n",
       "  </thead>\n",
       "  <tbody>\n",
       "    <tr>\n",
       "      <th>0</th>\n",
       "      <td>34.5</td>\n",
       "      <td>7.8292</td>\n",
       "    </tr>\n",
       "    <tr>\n",
       "      <th>1</th>\n",
       "      <td>47.0</td>\n",
       "      <td>7.0000</td>\n",
       "    </tr>\n",
       "    <tr>\n",
       "      <th>2</th>\n",
       "      <td>62.0</td>\n",
       "      <td>9.6875</td>\n",
       "    </tr>\n",
       "    <tr>\n",
       "      <th>3</th>\n",
       "      <td>27.0</td>\n",
       "      <td>8.6625</td>\n",
       "    </tr>\n",
       "    <tr>\n",
       "      <th>4</th>\n",
       "      <td>22.0</td>\n",
       "      <td>12.2875</td>\n",
       "    </tr>\n",
       "    <tr>\n",
       "      <th>...</th>\n",
       "      <td>...</td>\n",
       "      <td>...</td>\n",
       "    </tr>\n",
       "    <tr>\n",
       "      <th>413</th>\n",
       "      <td>NaN</td>\n",
       "      <td>8.0500</td>\n",
       "    </tr>\n",
       "    <tr>\n",
       "      <th>414</th>\n",
       "      <td>39.0</td>\n",
       "      <td>108.9000</td>\n",
       "    </tr>\n",
       "    <tr>\n",
       "      <th>415</th>\n",
       "      <td>38.5</td>\n",
       "      <td>7.2500</td>\n",
       "    </tr>\n",
       "    <tr>\n",
       "      <th>416</th>\n",
       "      <td>NaN</td>\n",
       "      <td>8.0500</td>\n",
       "    </tr>\n",
       "    <tr>\n",
       "      <th>417</th>\n",
       "      <td>NaN</td>\n",
       "      <td>22.3583</td>\n",
       "    </tr>\n",
       "  </tbody>\n",
       "</table>\n",
       "<p>418 rows × 2 columns</p>\n",
       "</div>"
      ],
      "text/plain": [
       "      Age      Fare\n",
       "0    34.5    7.8292\n",
       "1    47.0    7.0000\n",
       "2    62.0    9.6875\n",
       "3    27.0    8.6625\n",
       "4    22.0   12.2875\n",
       "..    ...       ...\n",
       "413   NaN    8.0500\n",
       "414  39.0  108.9000\n",
       "415  38.5    7.2500\n",
       "416   NaN    8.0500\n",
       "417   NaN   22.3583\n",
       "\n",
       "[418 rows x 2 columns]"
      ]
     },
     "execution_count": 32,
     "metadata": {},
     "output_type": "execute_result"
    }
   ],
   "source": [
    "numerical_data=numerical_data.T\n",
    "numerical_data"
   ]
  },
  {
   "cell_type": "code",
   "execution_count": 33,
   "id": "39b87d68",
   "metadata": {
    "execution": {
     "iopub.execute_input": "2022-11-25T16:37:39.280734Z",
     "iopub.status.busy": "2022-11-25T16:37:39.280356Z",
     "iopub.status.idle": "2022-11-25T16:37:39.476219Z",
     "shell.execute_reply": "2022-11-25T16:37:39.475334Z"
    },
    "papermill": {
     "duration": 0.211846,
     "end_time": "2022-11-25T16:37:39.478264",
     "exception": false,
     "start_time": "2022-11-25T16:37:39.266418",
     "status": "completed"
    },
    "tags": []
   },
   "outputs": [
    {
     "data": {
      "text/plain": [
       "<AxesSubplot:ylabel='Density'>"
      ]
     },
     "execution_count": 33,
     "metadata": {},
     "output_type": "execute_result"
    },
    {
     "data": {
      "image/png": "[encoded data removed]",
      "text/plain": [
       "<Figure size 640x480 with 1 Axes>"
      ]
     },
     "metadata": {},
     "output_type": "display_data"
    }
   ],
   "source": [
    "numerical_data.plot.kde()"
   ]
  },
  {
   "cell_type": "code",
   "execution_count": 34,
   "id": "8499c0d4",
   "metadata": {
    "execution": {
     "iopub.execute_input": "2022-11-25T16:37:39.507319Z",
     "iopub.status.busy": "2022-11-25T16:37:39.506428Z",
     "iopub.status.idle": "2022-11-25T16:37:40.434512Z",
     "shell.execute_reply": "2022-11-25T16:37:40.433521Z"
    },
    "papermill": {
     "duration": 0.944592,
     "end_time": "2022-11-25T16:37:40.436532",
     "exception": false,
     "start_time": "2022-11-25T16:37:39.491940",
     "status": "completed"
    },
    "tags": []
   },
   "outputs": [
    {
     "data": {
      "text/plain": [
       "<seaborn.axisgrid.PairGrid at 0x17c924e9910>"
      ]
     },
     "execution_count": 34,
     "metadata": {},
     "output_type": "execute_result"
    },
    {
     "data": {
      "image/png": "[encoded data removed]",
      "text/plain": [
       "<Figure size 500x500 with 6 Axes>"
      ]
     },
     "metadata": {},
     "output_type": "display_data"
    }
   ],
   "source": [
    "sns.pairplot(numerical_data)"
   ]
  },
  {
   "cell_type": "code",
   "execution_count": 35,
   "id": "e89678b1",
   "metadata": {
    "execution": {
     "iopub.execute_input": "2022-11-25T16:37:40.468186Z",
     "iopub.status.busy": "2022-11-25T16:37:40.467815Z",
     "iopub.status.idle": "2022-11-25T16:37:40.474927Z",
     "shell.execute_reply": "2022-11-25T16:37:40.474026Z"
    },
    "papermill": {
     "duration": 0.024816,
     "end_time": "2022-11-25T16:37:40.476760",
     "exception": false,
     "start_time": "2022-11-25T16:37:40.451944",
     "status": "completed"
    },
    "tags": []
   },
   "outputs": [
    {
     "data": {
      "text/plain": [
       "['Sex', 'Embarked', 'Survived', 'Pclass', 'SibSp', 'Parch']"
      ]
     },
     "execution_count": 35,
     "metadata": {},
     "output_type": "execute_result"
    }
   ],
   "source": [
    "categorical_data.columns.to_list()"
   ]
  },
  {
   "cell_type": "code",
   "execution_count": 36,
   "id": "6f41de39",
   "metadata": {
    "execution": {
     "iopub.execute_input": "2022-11-25T16:37:40.506489Z",
     "iopub.status.busy": "2022-11-25T16:37:40.505967Z",
     "iopub.status.idle": "2022-11-25T16:37:40.511894Z",
     "shell.execute_reply": "2022-11-25T16:37:40.510993Z"
    },
    "papermill": {
     "duration": 0.022754,
     "end_time": "2022-11-25T16:37:40.513662",
     "exception": false,
     "start_time": "2022-11-25T16:37:40.490908",
     "status": "completed"
    },
    "tags": []
   },
   "outputs": [
    {
     "name": "stdout",
     "output_type": "stream",
     "text": [
      "Sex ['male' 'female']\n",
      "Embarked ['Q' 'S' 'C']\n",
      "Survived [0 1]\n",
      "Pclass [3 2 1]\n",
      "SibSp [0 1 2 3 4 5 8]\n",
      "Parch [0 1 3 2 4 6 5 9]\n"
     ]
    }
   ],
   "source": [
    "for col  in  categorical_data:\n",
    "     print(col,categorical_data[col].unique())"
   ]
  },
  {
   "cell_type": "code",
   "execution_count": 37,
   "id": "b6b56553",
   "metadata": {
    "execution": {
     "iopub.execute_input": "2022-11-25T16:37:40.543277Z",
     "iopub.status.busy": "2022-11-25T16:37:40.542953Z",
     "iopub.status.idle": "2022-11-25T16:37:41.185087Z",
     "shell.execute_reply": "2022-11-25T16:37:41.184291Z"
    },
    "papermill": {
     "duration": 0.659479,
     "end_time": "2022-11-25T16:37:41.187299",
     "exception": false,
     "start_time": "2022-11-25T16:37:40.527820",
     "status": "completed"
    },
    "tags": []
   },
   "outputs": [
    {
     "data": {
      "image/png": "[encoded data removed]",
      "text/plain": [
       "<Figure size 640x480 with 1 Axes>"
      ]
     },
     "metadata": {},
     "output_type": "display_data"
    },
    {
     "data": {
      "image/png": "[encoded data removed]",
      "text/plain": [
       "<Figure size 640x480 with 1 Axes>"
      ]
     },
     "metadata": {},
     "output_type": "display_data"
    },
    {
     "data": {
      "image/png": "[encoded data removed]",
      "text/plain": [
       "<Figure size 640x480 with 1 Axes>"
      ]
     },
     "metadata": {},
     "output_type": "display_data"
    },
    {
     "data": {
      "image/png": "[encoded data removed]",
      "text/plain": [
       "<Figure size 640x480 with 1 Axes>"
      ]
     },
     "metadata": {},
     "output_type": "display_data"
    },
    {
     "data": {
      "image/png": "[encoded data removed]",
      "text/plain": [
       "<Figure size 640x480 with 1 Axes>"
      ]
     },
     "metadata": {},
     "output_type": "display_data"
    },
    {
     "data": {
      "image/png": "[encoded data removed]",
      "text/plain": [
       "<Figure size 640x480 with 1 Axes>"
      ]
     },
     "metadata": {},
     "output_type": "display_data"
    }
   ],
   "source": [
    "for col in categorical_data:\n",
    "   \n",
    "    plt.show()\n",
    "    plt.title(col)\n",
    "    categorical_data[col].value_counts().plot.pie()"
   ]
  },
  {
   "cell_type": "code",
   "execution_count": 38,
   "id": "0cf1e229",
   "metadata": {
    "execution": {
     "iopub.execute_input": "2022-11-25T16:37:41.232916Z",
     "iopub.status.busy": "2022-11-25T16:37:41.232343Z",
     "iopub.status.idle": "2022-11-25T16:37:42.027034Z",
     "shell.execute_reply": "2022-11-25T16:37:42.026401Z"
    },
    "papermill": {
     "duration": 0.820462,
     "end_time": "2022-11-25T16:37:42.028796",
     "exception": false,
     "start_time": "2022-11-25T16:37:41.208334",
     "status": "completed"
    },
    "tags": []
   },
   "outputs": [
    {
     "data": {
      "image/png": "[encoded data removed]",
      "text/plain": [
       "<Figure size 640x480 with 1 Axes>"
      ]
     },
     "metadata": {},
     "output_type": "display_data"
    },
    {
     "data": {
      "image/png": "[encoded data removed]",
      "text/plain": [
       "<Figure size 640x480 with 1 Axes>"
      ]
     },
     "metadata": {},
     "output_type": "display_data"
    },
    {
     "data": {
      "image/png": "[encoded data removed]",
      "text/plain": [
       "<Figure size 640x480 with 1 Axes>"
      ]
     },
     "metadata": {},
     "output_type": "display_data"
    },
    {
     "data": {
      "image/png": "[encoded data removed]",
      "text/plain": [
       "<Figure size 640x480 with 1 Axes>"
      ]
     },
     "metadata": {},
     "output_type": "display_data"
    },
    {
     "data": {
      "image/png": "[encoded data removed]",
      "text/plain": [
       "<Figure size 640x480 with 1 Axes>"
      ]
     },
     "metadata": {},
     "output_type": "display_data"
    },
    {
     "data": {
      "image/png": "[encoded data removed]",
      "text/plain": [
       "<Figure size 640x480 with 1 Axes>"
      ]
     },
     "metadata": {},
     "output_type": "display_data"
    }
   ],
   "source": [
    "for col in categorical_data:\n",
    "    plt.show()\n",
    "    plt.title(col)\n",
    "    categorical_data[col].hist()"
   ]
  },
  {
   "cell_type": "markdown",
   "id": "eacdda3b",
   "metadata": {
    "papermill": {
     "duration": 0.015629,
     "end_time": "2022-11-25T16:37:42.060552",
     "exception": false,
     "start_time": "2022-11-25T16:37:42.044923",
     "status": "completed"
    },
    "tags": []
   },
   "source": [
    "# Outliers "
   ]
  },
  {
   "cell_type": "code",
   "execution_count": 39,
   "id": "d1678992",
   "metadata": {
    "execution": {
     "iopub.execute_input": "2022-11-25T16:37:42.094034Z",
     "iopub.status.busy": "2022-11-25T16:37:42.093507Z",
     "iopub.status.idle": "2022-11-25T16:37:42.246452Z",
     "shell.execute_reply": "2022-11-25T16:37:42.245672Z"
    },
    "papermill": {
     "duration": 0.17218,
     "end_time": "2022-11-25T16:37:42.248602",
     "exception": false,
     "start_time": "2022-11-25T16:37:42.076422",
     "status": "completed"
    },
    "tags": []
   },
   "outputs": [
    {
     "data": {
      "text/plain": [
       "<AxesSubplot:>"
      ]
     },
     "execution_count": 39,
     "metadata": {},
     "output_type": "execute_result"
    },
    {
     "data": {
      "image/png": "[encoded data removed]",
      "text/plain": [
       "<Figure size 640x480 with 1 Axes>"
      ]
     },
     "metadata": {},
     "output_type": "display_data"
    }
   ],
   "source": [
    "sns.boxplot(data=categorical_data)"
   ]
  },
  {
   "cell_type": "markdown",
   "id": "96723743",
   "metadata": {
    "papermill": {
     "duration": 0.016265,
     "end_time": "2022-11-25T16:37:42.286072",
     "exception": false,
     "start_time": "2022-11-25T16:37:42.269807",
     "status": "completed"
    },
    "tags": []
   },
   "source": [
    "# target Analysis"
   ]
  },
  {
   "cell_type": "code",
   "execution_count": 40,
   "id": "3f091d99",
   "metadata": {
    "execution": {
     "iopub.execute_input": "2022-11-25T16:37:42.320830Z",
     "iopub.status.busy": "2022-11-25T16:37:42.320415Z",
     "iopub.status.idle": "2022-11-25T16:37:42.324130Z",
     "shell.execute_reply": "2022-11-25T16:37:42.323525Z"
    },
    "papermill": {
     "duration": 0.023192,
     "end_time": "2022-11-25T16:37:42.325907",
     "exception": false,
     "start_time": "2022-11-25T16:37:42.302715",
     "status": "completed"
    },
    "tags": []
   },
   "outputs": [],
   "source": [
    "target=categorical_data.Survived"
   ]
  },
  {
   "cell_type": "code",
   "execution_count": 41,
   "id": "3a521231",
   "metadata": {
    "execution": {
     "iopub.execute_input": "2022-11-25T16:37:42.360598Z",
     "iopub.status.busy": "2022-11-25T16:37:42.360202Z",
     "iopub.status.idle": "2022-11-25T16:37:42.367184Z",
     "shell.execute_reply": "2022-11-25T16:37:42.366298Z"
    },
    "papermill": {
     "duration": 0.026243,
     "end_time": "2022-11-25T16:37:42.368786",
     "exception": false,
     "start_time": "2022-11-25T16:37:42.342543",
     "status": "completed"
    },
    "tags": []
   },
   "outputs": [
    {
     "data": {
      "text/plain": [
       "0      0\n",
       "1      1\n",
       "2      0\n",
       "3      0\n",
       "4      1\n",
       "      ..\n",
       "413    0\n",
       "414    1\n",
       "415    0\n",
       "416    0\n",
       "417    0\n",
       "Name: Survived, Length: 418, dtype: object"
      ]
     },
     "execution_count": 41,
     "metadata": {},
     "output_type": "execute_result"
    }
   ],
   "source": [
    "target"
   ]
  },
  {
   "cell_type": "code",
   "execution_count": 42,
   "id": "69a94485",
   "metadata": {
    "execution": {
     "iopub.execute_input": "2022-11-25T16:37:42.402755Z",
     "iopub.status.busy": "2022-11-25T16:37:42.402380Z",
     "iopub.status.idle": "2022-11-25T16:37:42.410218Z",
     "shell.execute_reply": "2022-11-25T16:37:42.408653Z"
    },
    "papermill": {
     "duration": 0.027526,
     "end_time": "2022-11-25T16:37:42.412703",
     "exception": false,
     "start_time": "2022-11-25T16:37:42.385177",
     "status": "completed"
    },
    "tags": []
   },
   "outputs": [
    {
     "data": {
      "text/plain": [
       "0    266\n",
       "1    152\n",
       "Name: Survived, dtype: int64"
      ]
     },
     "execution_count": 42,
     "metadata": {},
     "output_type": "execute_result"
    }
   ],
   "source": [
    "target.value_counts()"
   ]
  },
  {
   "cell_type": "code",
   "execution_count": 43,
   "id": "5a998423",
   "metadata": {
    "execution": {
     "iopub.execute_input": "2022-11-25T16:37:42.449349Z",
     "iopub.status.busy": "2022-11-25T16:37:42.448955Z",
     "iopub.status.idle": "2022-11-25T16:37:42.566823Z",
     "shell.execute_reply": "2022-11-25T16:37:42.566116Z"
    },
    "papermill": {
     "duration": 0.140061,
     "end_time": "2022-11-25T16:37:42.570385",
     "exception": false,
     "start_time": "2022-11-25T16:37:42.430324",
     "status": "completed"
    },
    "tags": []
   },
   "outputs": [
    {
     "name": "stderr",
     "output_type": "stream",
     "text": [
      "C:\\Users\\acer\\anaconda3\\lib\\site-packages\\seaborn\\_decorators.py:36: FutureWarning: Pass the following variable as a keyword arg: x. From version 0.12, the only valid positional argument will be `data`, and passing other arguments without an explicit keyword will result in an error or misinterpretation.\n",
      "  warnings.warn(\n"
     ]
    },
    {
     "data": {
      "image/png": "[encoded data removed]",
      "text/plain": [
       "<Figure size 800x600 with 1 Axes>"
      ]
     },
     "metadata": {},
     "output_type": "display_data"
    }
   ],
   "source": [
    "plt.figure(figsize=(8,6))\n",
    "sns.countplot(target)\n",
    "yes=target.value_counts()[1]/len(target)\n",
    "no=target.value_counts()[0]/len(target)"
   ]
  },
  {
   "cell_type": "code",
   "execution_count": 44,
   "id": "57204bb6",
   "metadata": {
    "execution": {
     "iopub.execute_input": "2022-11-25T16:37:42.614247Z",
     "iopub.status.busy": "2022-11-25T16:37:42.613874Z",
     "iopub.status.idle": "2022-11-25T16:37:42.618950Z",
     "shell.execute_reply": "2022-11-25T16:37:42.618232Z"
    },
    "papermill": {
     "duration": 0.027023,
     "end_time": "2022-11-25T16:37:42.620858",
     "exception": false,
     "start_time": "2022-11-25T16:37:42.593835",
     "status": "completed"
    },
    "tags": []
   },
   "outputs": [
    {
     "name": "stdout",
     "output_type": "stream",
     "text": [
      "le pourcentage des 1  0.36363636363636365\n",
      "le pourcentage des 0 est  0.6363636363636364\n"
     ]
    }
   ],
   "source": [
    "print('le pourcentage des 1 ',yes)\n",
    "print('le pourcentage des 0 est ',no)"
   ]
  },
  {
   "cell_type": "code",
   "execution_count": null,
   "id": "bf13b62e",
   "metadata": {
    "papermill": {
     "duration": 0.016682,
     "end_time": "2022-11-25T16:37:42.654744",
     "exception": false,
     "start_time": "2022-11-25T16:37:42.638062",
     "status": "completed"
    },
    "tags": []
   },
   "outputs": [],
   "source": []
  },
  {
   "cell_type": "code",
   "execution_count": null,
   "id": "88e6498f",
   "metadata": {},
   "outputs": [],
   "source": []
  }
 ],
 "metadata": {
  "kernelspec": {
   "display_name": "Python 3 (ipykernel)",
   "language": "python",
   "name": "python3"
  },
  "language_info": {
   "codemirror_mode": {
    "name": "ipython",
    "version": 3
   },
   "file_extension": ".py",
   "mimetype": "text/x-python",
   "name": "python",
   "nbconvert_exporter": "python",
   "pygments_lexer": "ipython3",
   "version": "3.9.13"
  },
  "papermill": {
   "default_parameters": {},
   "duration": 14.555252,
   "end_time": "2022-11-25T16:37:43.392557",
   "environment_variables": {},
   "exception": null,
   "input_path": "__notebook__.ipynb",
   "output_path": "__notebook__.ipynb",
   "parameters": {},
   "start_time": "2022-11-25T16:37:28.837305",
   "version": "2.3.4"
  }
 },
 "nbformat": 4,
 "nbformat_minor": 5
}
