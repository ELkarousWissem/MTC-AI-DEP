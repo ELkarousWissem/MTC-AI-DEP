import warnings 
warnings.filterwarnings('ignore')

warnings.warn("this is a simple warning ")
